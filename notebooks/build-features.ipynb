{
 "cells": [
  {
   "cell_type": "code",
   "execution_count": null,
   "metadata": {
    "collapsed": false
   },
   "outputs": [],
   "source": [
    "%pylab inline\n",
    "import pandas"
   ]
  },
  {
   "cell_type": "code",
   "execution_count": null,
   "metadata": {
    "collapsed": true
   },
   "outputs": [],
   "source": [
    "TRAINFILE='../data/training_input.csv'\n",
    "LABELFILE='../data/challenge_output_data_training_file_prediction_of_trading_activity_within_the_order_book.csv'\n",
    "CHUNKSIZE=8\n",
    "NCHUNKS=10\n",
    "LASTROW=7\n",
    "DAY=4679\n",
    "USEFEATURES = ['ID', 'bid_1', 'ask_1', 'bid_size_1', 'ask_size_1', 'nb_trade']\n",
    "NEWFEATURES = ['bid_1', 'spread', 'bid_plus_ask', 'bid_pct', 'nb_trade']\n",
    "TRAINPICKLE='train.pkl'"
   ]
  },
  {
   "cell_type": "code",
   "execution_count": null,
   "metadata": {
    "collapsed": false
   },
   "outputs": [],
   "source": [
    "train_all = pandas.read_csv(TRAINFILE, nrows=CHUNKSIZE*NCHUNKS, usecols=USEFEATURES)"
   ]
  },
  {
   "cell_type": "code",
   "execution_count": null,
   "metadata": {
    "collapsed": true
   },
   "outputs": [],
   "source": [
    "train_all['spread'] = train_all['ask_1']-train_all['bid_1']\n",
    "train_all['bid_plus_ask'] = train_all['bid_size_1']-train_all['ask_size_1']\n",
    "train_all['bid_pct'] = train_all['bid_size_1']/train_all['bid_plus_ask']"
   ]
  },
  {
   "cell_type": "code",
   "execution_count": null,
   "metadata": {
    "collapsed": false
   },
   "outputs": [],
   "source": [
    "train_diff = train_all[NEWFEATURES].diff()"
   ]
  },
  {
   "cell_type": "code",
   "execution_count": null,
   "metadata": {
    "collapsed": false,
    "scrolled": true
   },
   "outputs": [],
   "source": [
    "past_diff_feat = np.hstack([train_diff.iloc[i::8, :].values for i in range(1,8)])"
   ]
  },
  {
   "cell_type": "code",
   "execution_count": null,
   "metadata": {
    "collapsed": false
   },
   "outputs": [],
   "source": [
    "fut_diff_feat = np.hstack([train_diff.iloc[i+7::8, :].values for i in range(1,8)])\n",
    "# fix end\n",
    "fut_diff_feat = np.r_[fut_diff_feat, np.zeros((1, B.shape[1]))]"
   ]
  },
  {
   "cell_type": "code",
   "execution_count": null,
   "metadata": {
    "collapsed": false
   },
   "outputs": [],
   "source": [
    "pres_orig_feat = train_all.iloc[7::8][NEWFEATURES].values"
   ]
  },
  {
   "cell_type": "code",
   "execution_count": null,
   "metadata": {
    "collapsed": false
   },
   "outputs": [],
   "source": [
    "time_feat = (train_all.iloc[7::8, 0].values-1)%DAY"
   ]
  },
  {
   "cell_type": "code",
   "execution_count": null,
   "metadata": {
    "collapsed": false
   },
   "outputs": [],
   "source": [
    "train=np.c_[past_diff_feat,fut_diff_feat,pres_orig_feat,time_feat]"
   ]
  },
  {
   "cell_type": "code",
   "execution_count": null,
   "metadata": {
    "collapsed": false
   },
   "outputs": [],
   "source": [
    "np.save(TRAINPICKLE, train, allow_pickle=True)"
   ]
  },
  {
   "cell_type": "code",
   "execution_count": null,
   "metadata": {
    "collapsed": true
   },
   "outputs": [],
   "source": [
    "label = pandas.read_csv(LABELFILE, sep=';')['TARGET'].values"
   ]
  },
  {
   "cell_type": "code",
   "execution_count": null,
   "metadata": {
    "collapsed": false
   },
   "outputs": [],
   "source": [
    "label.astype('float64').round().astype('int').mean()"
   ]
  },
  {
   "cell_type": "code",
   "execution_count": null,
   "metadata": {
    "collapsed": true
   },
   "outputs": [],
   "source": [
    "#import xgboost as xgb\n",
    "def pct_eval(y_prob, dtrain):\n",
    "    y_true = dtrain.get_label()\n",
    "    return 'PCT', 1-(y_prob.round().astype('int')==y_true).mean()"
   ]
  },
  {
   "cell_type": "code",
   "execution_count": null,
   "metadata": {
    "collapsed": true
   },
   "outputs": [],
   "source": [
    "dtrain = xgb.DMatrix(data=np.load(TRAINPICKLE), label = label)\n",
    "prior=label.mean()\n",
    "params={}\n",
    "params['bst:eta'] = 0.1\n",
    "params['bst:max_depth'] = 4\n",
    "params['min_child_weight'] = 14\n",
    "params['objective'] = 'binary:logistic'\n",
    "params['nthread'] = 4\n",
    "params['eval_metric'] = 'auc'\n",
    "params['learning_rate'] = 0.1\n",
    "params['base_score'] = prior\n",
    "res = xgb.cv(params, dtrain, num_boost_round=40, feval=pct_eval, verbose_eval=True, nfold=4, seed=0, early_stopping_rounds=10, show_stdv=True)"
   ]
  }
 ],
 "metadata": {
  "anaconda-cloud": {},
  "kernelspec": {
   "display_name": "Python [Root]",
   "language": "python",
   "name": "Python [Root]"
  },
  "language_info": {
   "codemirror_mode": {
    "name": "ipython",
    "version": 3
   },
   "file_extension": ".py",
   "mimetype": "text/x-python",
   "name": "python",
   "nbconvert_exporter": "python",
   "pygments_lexer": "ipython3",
   "version": "3.5.2"
  }
 },
 "nbformat": 4,
 "nbformat_minor": 0
}
