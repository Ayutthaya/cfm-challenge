{
 "cells": [
  {
   "cell_type": "code",
   "execution_count": 26,
   "metadata": {
    "collapsed": false
   },
   "outputs": [
    {
     "name": "stdout",
     "output_type": "stream",
     "text": [
      "Populating the interactive namespace from numpy and matplotlib\n"
     ]
    }
   ],
   "source": [
    "%pylab inline\n",
    "import pandas"
   ]
  },
  {
   "cell_type": "code",
   "execution_count": 46,
   "metadata": {
    "collapsed": true
   },
   "outputs": [],
   "source": [
    "TRAINFILE='/home/ubuntu/data/training_input.csv'\n",
    "TESTFILE='/home/ubuntu/data/testing_input.csv'\n",
    "LABELFILE='/home/ubuntu/data/challenge_output_data_training_file_prediction_of_trading_activity_within_the_order_book.csv'\n",
    "CHUNKSIZE=8\n",
    "NCHUNKS=10\n",
    "LASTROW=7\n",
    "DAY=4679\n",
    "HALFDAY=2239\n",
    "USEFEATURES = ['ID', 'bid_1', 'ask_1', 'bid_size_1', 'ask_size_1', 'nb_trade', 'bid_entropy_1', 'ask_entropy_1', 'bid_size_2', 'ask_size_2']\n",
    "NEWFEATURES = ['bid_1', 'spread', 'bid_plus_ask', 'bid_pct', 'nb_trade']+['bid_size_2', 'ask_size_2']\n",
    "TRAINPICKLE='train.pkl'\n",
    "TESTPICKLE='test.pkl'"
   ]
  },
  {
   "cell_type": "code",
   "execution_count": 28,
   "metadata": {
    "collapsed": false
   },
   "outputs": [],
   "source": [
    "train_all = pandas.read_csv(TRAINFILE, usecols=USEFEATURES)"
   ]
  },
  {
   "cell_type": "code",
   "execution_count": 29,
   "metadata": {
    "collapsed": true
   },
   "outputs": [],
   "source": [
    "train_all['spread'] = train_all['ask_1']-train_all['bid_1']\n",
    "train_all['bid_plus_ask'] = train_all['bid_size_1']-train_all['ask_size_1']\n",
    "train_all['bid_pct'] = train_all['bid_size_1']/train_all['bid_plus_ask']"
   ]
  },
  {
   "cell_type": "code",
   "execution_count": 30,
   "metadata": {
    "collapsed": false
   },
   "outputs": [],
   "source": [
    "train_diff = train_all[NEWFEATURES].diff()"
   ]
  },
  {
   "cell_type": "code",
   "execution_count": 31,
   "metadata": {
    "collapsed": false,
    "scrolled": true
   },
   "outputs": [],
   "source": [
    "past_diff_feat = np.hstack([train_diff.iloc[i::8, :].values for i in range(1,8)])"
   ]
  },
  {
   "cell_type": "code",
   "execution_count": 32,
   "metadata": {
    "collapsed": false
   },
   "outputs": [],
   "source": [
    "fut_diff_feat = np.hstack([train_diff.iloc[i+7::8, :].values for i in range(1,9)])\n",
    "# fix end\n",
    "fut_diff_feat = np.r_[fut_diff_feat, np.zeros((1, fut_diff_feat.shape[1]))]"
   ]
  },
  {
   "cell_type": "code",
   "execution_count": 33,
   "metadata": {
    "collapsed": false
   },
   "outputs": [],
   "source": [
    "pres_orig_feat = train_all.iloc[7::8][NEWFEATURES].values"
   ]
  },
  {
   "cell_type": "code",
   "execution_count": 34,
   "metadata": {
    "collapsed": false
   },
   "outputs": [],
   "source": [
    "past_orig_feat = np.hstack([train_all.iloc[i::8, 1:8].values for i in range(8)])"
   ]
  },
  {
   "cell_type": "code",
   "execution_count": 35,
   "metadata": {
    "collapsed": false
   },
   "outputs": [],
   "source": [
    "time_feat = (train_all.iloc[7::8, 0].values-1)%DAY"
   ]
  },
  {
   "cell_type": "code",
   "execution_count": 36,
   "metadata": {
    "collapsed": false
   },
   "outputs": [],
   "source": [
    "entropy_feat = train_all.iloc[7::8, -2:]"
   ]
  },
  {
   "cell_type": "code",
   "execution_count": 37,
   "metadata": {
    "collapsed": false
   },
   "outputs": [],
   "source": [
    "#train=np.c_[past_diff_feat, pres_orig_feat, time_feat]\n",
    "#train=np.c_[pres_orig_feat, time_feat]\n",
    "#train=pres_orig_feat\n",
    "train=np.c_[past_diff_feat, fut_diff_feat, pres_orig_feat, time_feat]"
   ]
  },
  {
   "cell_type": "code",
   "execution_count": 38,
   "metadata": {
    "collapsed": false
   },
   "outputs": [],
   "source": [
    "np.save(TRAINPICKLE, train, allow_pickle=True)"
   ]
  },
  {
   "cell_type": "code",
   "execution_count": 39,
   "metadata": {
    "collapsed": true
   },
   "outputs": [],
   "source": [
    "label = pandas.read_csv(LABELFILE, sep=';')['TARGET'].values"
   ]
  },
  {
   "cell_type": "code",
   "execution_count": 40,
   "metadata": {
    "collapsed": true
   },
   "outputs": [],
   "source": [
    "import xgboost as xgb"
   ]
  },
  {
   "cell_type": "code",
   "execution_count": 41,
   "metadata": {
    "collapsed": false
   },
   "outputs": [],
   "source": [
    "dtrain = xgb.DMatrix(data=np.load(TRAINPICKLE+'.npy'), label = label)\n",
    "prior=label.mean()\n",
    "params={}\n",
    "params['bst:eta'] = 0.1\n",
    "params['bst:max_depth'] = 10\n",
    "params['min_child_weight'] = 4\n",
    "params['objective'] = 'binary:logistic'\n",
    "params['nthread'] = 4\n",
    "params['eval_metric'] = 'error'\n",
    "params['learning_rate'] = 0.1\n",
    "params['lambda'] = 0.1\n",
    "params['base_score'] = prior\n",
    "#res = xgb.cv(params, dtrain, num_boost_round=1000, verbose_eval=True, nfold=4, seed=0, early_stopping_rounds=10, show_stdv=True)"
   ]
  },
  {
   "cell_type": "code",
   "execution_count": 42,
   "metadata": {
    "collapsed": true
   },
   "outputs": [],
   "source": [
    "num_round=150\n",
    "bst = xgb.train(params, dtrain, num_round)"
   ]
  },
  {
   "cell_type": "code",
   "execution_count": 47,
   "metadata": {
    "collapsed": false
   },
   "outputs": [],
   "source": [
    "test_all = pandas.read_csv(TESTFILE, usecols=USEFEATURES)"
   ]
  },
  {
   "cell_type": "code",
   "execution_count": 48,
   "metadata": {
    "collapsed": true
   },
   "outputs": [],
   "source": [
    "test_all['spread'] = test_all['ask_1']-test_all['bid_1']\n",
    "test_all['bid_plus_ask'] = test_all['bid_size_1']-test_all['ask_size_1']\n",
    "test_all['bid_pct'] = test_all['bid_size_1']/test_all['bid_plus_ask']"
   ]
  },
  {
   "cell_type": "code",
   "execution_count": 49,
   "metadata": {
    "collapsed": false
   },
   "outputs": [],
   "source": [
    "test_diff = test_all[NEWFEATURES].diff()"
   ]
  },
  {
   "cell_type": "code",
   "execution_count": 50,
   "metadata": {
    "collapsed": false,
    "scrolled": true
   },
   "outputs": [],
   "source": [
    "past_diff_feat = np.hstack([test_diff.iloc[i::8, :].values for i in range(1,8)])"
   ]
  },
  {
   "cell_type": "code",
   "execution_count": 51,
   "metadata": {
    "collapsed": false
   },
   "outputs": [],
   "source": [
    "fut_diff_feat = np.hstack([test_diff.iloc[i+7::8, :].values for i in range(1,9)])\n",
    "# fix end\n",
    "fut_diff_feat = np.r_[fut_diff_feat, np.zeros((1, fut_diff_feat.shape[1]))]"
   ]
  },
  {
   "cell_type": "code",
   "execution_count": 52,
   "metadata": {
    "collapsed": false
   },
   "outputs": [],
   "source": [
    "pres_orig_feat = test_all.iloc[7::8][NEWFEATURES].values"
   ]
  },
  {
   "cell_type": "code",
   "execution_count": 53,
   "metadata": {
    "collapsed": false
   },
   "outputs": [],
   "source": [
    "past_orig_feat = np.hstack([test_all.iloc[i::8, 1:8].values for i in range(8)])"
   ]
  },
  {
   "cell_type": "code",
   "execution_count": 54,
   "metadata": {
    "collapsed": false
   },
   "outputs": [],
   "source": [
    "time_feat = (test_all.iloc[7::8, 0].values-1+HALFDAY)%DAY"
   ]
  },
  {
   "cell_type": "code",
   "execution_count": 55,
   "metadata": {
    "collapsed": false
   },
   "outputs": [],
   "source": [
    "entropy_feat = test_all.iloc[7::8, -2:]"
   ]
  },
  {
   "cell_type": "code",
   "execution_count": 56,
   "metadata": {
    "collapsed": false
   },
   "outputs": [],
   "source": [
    "#train=np.c_[past_diff_feat, pres_orig_feat, time_feat]\n",
    "#train=np.c_[pres_orig_feat, time_feat]\n",
    "#train=pres_orig_feat\n",
    "test=np.c_[past_diff_feat, fut_diff_feat, pres_orig_feat, time_feat]"
   ]
  },
  {
   "cell_type": "code",
   "execution_count": 57,
   "metadata": {
    "collapsed": false
   },
   "outputs": [],
   "source": [
    "np.save(TESTPICKLE, test, allow_pickle=True)"
   ]
  },
  {
   "cell_type": "code",
   "execution_count": 58,
   "metadata": {
    "collapsed": true
   },
   "outputs": [],
   "source": [
    "dtest = xgb.DMatrix(data=np.load(TESTPICKLE+'.npy'))"
   ]
  },
  {
   "cell_type": "code",
   "execution_count": null,
   "metadata": {
    "collapsed": true
   },
   "outputs": [],
   "source": []
  },
  {
   "cell_type": "code",
   "execution_count": 59,
   "metadata": {
    "collapsed": true
   },
   "outputs": [],
   "source": [
    "y_pred_test=np.round(bst.predict(dtest)).astype('int')"
   ]
  },
  {
   "cell_type": "code",
   "execution_count": 60,
   "metadata": {
    "collapsed": true
   },
   "outputs": [],
   "source": [
    "pandas.DataFrame(y_pred_test).to_csv('/tmp/pred.csv')"
   ]
  },
  {
   "cell_type": "code",
   "execution_count": null,
   "metadata": {
    "collapsed": true
   },
   "outputs": [],
   "source": []
  }
 ],
 "metadata": {
  "anaconda-cloud": {},
  "kernelspec": {
   "display_name": "Python [conda root]",
   "language": "python",
   "name": "conda-root-py"
  },
  "language_info": {
   "codemirror_mode": {
    "name": "ipython",
    "version": 3
   },
   "file_extension": ".py",
   "mimetype": "text/x-python",
   "name": "python",
   "nbconvert_exporter": "python",
   "pygments_lexer": "ipython3",
   "version": "3.5.2"
  }
 },
 "nbformat": 4,
 "nbformat_minor": 0
}
