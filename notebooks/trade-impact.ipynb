{
 "cells": [
  {
   "cell_type": "code",
   "execution_count": 1,
   "metadata": {
    "collapsed": false
   },
   "outputs": [
    {
     "name": "stdout",
     "output_type": "stream",
     "text": [
      "Populating the interactive namespace from numpy and matplotlib\n"
     ]
    }
   ],
   "source": [
    "import pandas\n",
    "import seaborn as sns\n",
    "%pylab inline"
   ]
  },
  {
   "cell_type": "code",
   "execution_count": 2,
   "metadata": {
    "collapsed": true
   },
   "outputs": [],
   "source": [
    "train = pandas.read_csv('../data/training_input.csv', usecols=['offset', 'bid_1', 'bid_size_1', 'ask_1', 'ask_size_1', 'nb_trade', 'bid_size_2', 'ask_size_2'])"
   ]
  },
  {
   "cell_type": "code",
   "execution_count": 3,
   "metadata": {
    "collapsed": false
   },
   "outputs": [],
   "source": [
    "nb_trade_diff = train['nb_trade'].diff().values\n",
    "bid_1_diff = train['bid_1'].diff().values"
   ]
  },
  {
   "cell_type": "code",
   "execution_count": 4,
   "metadata": {
    "collapsed": false
   },
   "outputs": [],
   "source": [
    "n_epochs = int(nb_trade_diff.shape[0]/8)"
   ]
  },
  {
   "cell_type": "code",
   "execution_count": 5,
   "metadata": {
    "collapsed": false
   },
   "outputs": [],
   "source": [
    "bid_1_diff[0]=0"
   ]
  },
  {
   "cell_type": "code",
   "execution_count": 6,
   "metadata": {
    "collapsed": false
   },
   "outputs": [],
   "source": [
    "interesting_epochs=[]\n",
    "for i in range(n_epochs):\n",
    "    if nb_trade_diff[i*8+1]>0 and nb_trade_diff[i*8+2 : i*8 + 7].sum()==0 and bid_1_diff[i*8 : i*8+7].sum()==0:\n",
    "        interesting_epochs.append(i)"
   ]
  },
  {
   "cell_type": "code",
   "execution_count": 7,
   "metadata": {
    "collapsed": true
   },
   "outputs": [],
   "source": [
    "bid_size_1=train['bid_size_1'].values\n",
    "ask_size_1=train['ask_size_1'].values\n",
    "nb_trade = train['nb_trade'].values"
   ]
  },
  {
   "cell_type": "code",
   "execution_count": 8,
   "metadata": {
    "collapsed": true
   },
   "outputs": [],
   "source": [
    "mat_1 = bid_size_1.reshape((-1,8))\n",
    "mat_2 = mat_1[interesting_epochs, :]\n",
    "mat_3 = (mat_2.T - mat_2[:, 0]).T\n",
    "mat_4 = np.abs(mat_3)"
   ]
  },
  {
   "cell_type": "markdown",
   "metadata": {},
   "source": [
    "Impact d'un groupe de trades sur la variation de la taille du bid\n",
    "------------------------------------------------------"
   ]
  },
  {
   "cell_type": "code",
   "execution_count": 9,
   "metadata": {
    "collapsed": false,
    "scrolled": true
   },
   "outputs": [
    {
     "data": {
      "text/plain": [
       "[<matplotlib.lines.Line2D at 0xa2ffad2c>]"
      ]
     },
     "execution_count": 9,
     "metadata": {},
     "output_type": "execute_result"
    },
    {
     "data": {
      "image/png": "[encoded data removed]",
      "text/plain": [
       "<matplotlib.figure.Figure at 0xa4dc74cc>"
      ]
     },
     "metadata": {},
     "output_type": "display_data"
    }
   ],
   "source": [
    "ERP = mat_4.mean(axis=0)\n",
    "plt.plot(ERP)"
   ]
  },
  {
   "cell_type": "markdown",
   "metadata": {},
   "source": [
    "Variation moyenne de la taille du bid rapportée au nombre de trades\n",
    "----------"
   ]
  },
  {
   "cell_type": "code",
   "execution_count": 10,
   "metadata": {
    "collapsed": false
   },
   "outputs": [
    {
     "data": {
      "text/plain": [
       "24.302117479936964"
      ]
     },
     "execution_count": 10,
     "metadata": {},
     "output_type": "execute_result"
    }
   ],
   "source": [
    "(np.abs((mat_2[:, 1]-mat_2[:, 0]))/nb_trade[np.array(interesting_epochs)*8+1]).mean()"
   ]
  },
  {
   "cell_type": "code",
   "execution_count": 11,
   "metadata": {
    "collapsed": false
   },
   "outputs": [
    {
     "data": {
      "text/plain": [
       "64.498119758237877"
      ]
     },
     "execution_count": 11,
     "metadata": {},
     "output_type": "execute_result"
    }
   ],
   "source": [
    "(np.abs((mat_2[:, 1]-mat_2[:, 0]))/nb_trade[np.array(interesting_epochs)*8+1]).std()"
   ]
  },
  {
   "cell_type": "code",
   "execution_count": 12,
   "metadata": {
    "collapsed": false
   },
   "outputs": [
    {
     "data": {
      "text/plain": [
       "178.43596230791636"
      ]
     },
     "execution_count": 12,
     "metadata": {},
     "output_type": "execute_result"
    }
   ],
   "source": [
    "(np.abs((mat_2[:, 1]-mat_2[:, 0]))).std()"
   ]
  },
  {
   "cell_type": "markdown",
   "metadata": {},
   "source": [
    "Nombre moyen de trades dans une demi-seconde\n",
    "--------------------------------------------"
   ]
  },
  {
   "cell_type": "code",
   "execution_count": 13,
   "metadata": {
    "collapsed": false
   },
   "outputs": [
    {
     "data": {
      "text/plain": [
       "7.0592268512472245"
      ]
     },
     "execution_count": 13,
     "metadata": {},
     "output_type": "execute_result"
    }
   ],
   "source": [
    "nb_trade[np.array(interesting_epochs)*8+1].mean()"
   ]
  },
  {
   "cell_type": "code",
   "execution_count": 14,
   "metadata": {
    "collapsed": false
   },
   "outputs": [
    {
     "data": {
      "text/plain": [
       "array([[   0,   97,   56, ...,   56,   56,   56],\n",
       "       [   0,  -76,  -76, ..., -112, -112, -112],\n",
       "       [   0,  126,  126, ...,  137,  137,  137],\n",
       "       ..., \n",
       "       [   0,  -53,  -39, ...,  -39,  -39,  -39],\n",
       "       [   0,    0,    0, ...,    0,    0,    0],\n",
       "       [   0,    0,    0, ...,    0,    0,    0]], dtype=int64)"
      ]
     },
     "execution_count": 14,
     "metadata": {},
     "output_type": "execute_result"
    }
   ],
   "source": [
    "mat_1 = bid_size_1.reshape((-1,8))\n",
    "mat_2 = mat_1[interesting_epochs, :]\n",
    "mat_3 = (mat_2.T - mat_2[:, 0]).T\n",
    "mat_3"
   ]
  },
  {
   "cell_type": "code",
   "execution_count": 15,
   "metadata": {
    "collapsed": false
   },
   "outputs": [
    {
     "data": {
      "text/plain": [
       "array([[   0, -127, -110, ..., -130, -130, -130],\n",
       "       [   0, -347, -347, ..., -301, -301, -301],\n",
       "       [   0,  -95, -107, ..., -100, -100, -100],\n",
       "       ..., \n",
       "       [   0,   10,   10, ...,   10,   10,   10],\n",
       "       [   0,  -10,  -10, ...,  -10,  -10,  -10],\n",
       "       [   0,   -1,   -1, ...,   -1,   -1,   -1]], dtype=int64)"
      ]
     },
     "execution_count": 15,
     "metadata": {},
     "output_type": "execute_result"
    }
   ],
   "source": [
    "mat_4 = ask_size_1.reshape((-1,8))\n",
    "mat_5 = mat_4[interesting_epochs, :]\n",
    "mat_6 = (mat_5.T - mat_5[:, 0]).T\n",
    "mat_6"
   ]
  },
  {
   "cell_type": "code",
   "execution_count": 17,
   "metadata": {
    "collapsed": false
   },
   "outputs": [],
   "source": [
    "D, V = np.linalg.eigh(np.cov(mat_3[:, 1], mat_6[:, 1]))"
   ]
  },
  {
   "cell_type": "markdown",
   "metadata": {},
   "source": [
    "Variation de la taille du bid et du ask après un trade\n",
    "-----------------------------"
   ]
  },
  {
   "cell_type": "code",
   "execution_count": 20,
   "metadata": {
    "collapsed": false
   },
   "outputs": [
    {
     "data": {
      "text/plain": [
       "<matplotlib.collections.PathCollection at 0xa279beec>"
      ]
     },
     "execution_count": 20,
     "metadata": {},
     "output_type": "execute_result"
    },
    {
     "data": {
      "image/png": "[encoded data removed]",
      "text/plain": [
       "<matplotlib.figure.Figure at 0xa9623bac>"
      ]
     },
     "metadata": {},
     "output_type": "display_data"
    }
   ],
   "source": [
    "plt.figure(figsize=(10,10))\n",
    "plt.scatter(mat_3[:, 1], mat_6[:, 1])\n",
    "plt.scatter(1000*V[0, -1], 1000*V[1,-1], c='r')\n",
    "plt.gca().set_aspect('equal', adjustable='box')\n",
    "plt.xlim(-3000, 3000)\n",
    "plt.ylim(-3000, 3000)\n",
    "plt.scatter(np.arange(-2000, 2000), -np.arange(-2000, 2000), c='g')"
   ]
  },
  {
   "cell_type": "markdown",
   "metadata": {},
   "source": [
    "Variable change (bid_size_1, ask_size_1) by (bid_size_1+ask_size_1, bid_size_1/(bid_size_1+ask_size_1))"
   ]
  },
  {
   "cell_type": "code",
   "execution_count": 21,
   "metadata": {
    "collapsed": false
   },
   "outputs": [],
   "source": [
    "interesting_epochs=[]\n",
    "for i in range(n_epochs):\n",
    "    if nb_trade_diff[i*8+1]>0 and nb_trade_diff[i*8+2 : i*8 + 7].sum()==0 and bid_1_diff[i*8+1]>0 and bid_1_diff[i*8+2:i*8+7].sum()==0:\n",
    "        interesting_epochs.append(i)"
   ]
  },
  {
   "cell_type": "code",
   "execution_count": 23,
   "metadata": {
    "collapsed": false
   },
   "outputs": [],
   "source": [
    "bid_size_1=train['bid_size_1'].values\n",
    "ask_size_1=train['ask_size_1'].values\n",
    "bid_size_2=train['bid_size_2'].values\n",
    "ask_size_2=train['ask_size_2'].values"
   ]
  },
  {
   "cell_type": "code",
   "execution_count": 29,
   "metadata": {
    "collapsed": false
   },
   "outputs": [
    {
     "data": {
      "text/plain": [
       "221.05044810638913"
      ]
     },
     "execution_count": 29,
     "metadata": {},
     "output_type": "execute_result"
    }
   ],
   "source": [
    "mat_1 = bid_size_1.reshape((-1,8))\n",
    "mat_2 = mat_1[interesting_epochs, :]\n",
    "mat_3 = bid_size_2.reshape((-1,8))\n",
    "mat_4 = mat_3[interesting_epochs, :]\n",
    "(mat_4[:, 1]-mat_2[:, 0]+mat_2[:, 1]).mean()"
   ]
  },
  {
   "cell_type": "markdown",
   "metadata": {},
   "source": [
    "Variation moyenne de la taille du bid avec changement de niveau rapportée au nombre de trades\n",
    "----------------"
   ]
  },
  {
   "cell_type": "code",
   "execution_count": 26,
   "metadata": {
    "collapsed": false
   },
   "outputs": [
    {
     "data": {
      "text/plain": [
       "23.616059026387742"
      ]
     },
     "execution_count": 26,
     "metadata": {},
     "output_type": "execute_result"
    }
   ],
   "source": [
    "((mat_4[:, 1]-mat_2[:, 0]+mat_2[:, 1])/nb_trade[np.array(interesting_epochs)*8+1]).mean()"
   ]
  },
  {
   "cell_type": "markdown",
   "metadata": {},
   "source": [
    "Nombre moyen de trades sur une demi-seconde avec changement de niveau\n",
    "---------------------\n",
    "Attention : peut-être pas comparable avec la valeur précédente"
   ]
  },
  {
   "cell_type": "code",
   "execution_count": 30,
   "metadata": {
    "collapsed": false
   },
   "outputs": [
    {
     "data": {
      "text/plain": [
       "19.30341139057531"
      ]
     },
     "execution_count": 30,
     "metadata": {},
     "output_type": "execute_result"
    }
   ],
   "source": [
    "nb_trade[np.array(interesting_epochs)*8+1].mean()"
   ]
  }
 ],
 "metadata": {
  "anaconda-cloud": {},
  "kernelspec": {
   "display_name": "Python [Root]",
   "language": "python",
   "name": "Python [Root]"
  },
  "language_info": {
   "codemirror_mode": {
    "name": "ipython",
    "version": 3
   },
   "file_extension": ".py",
   "mimetype": "text/x-python",
   "name": "python",
   "nbconvert_exporter": "python",
   "pygments_lexer": "ipython3",
   "version": "3.5.2"
  }
 },
 "nbformat": 4,
 "nbformat_minor": 0
}
