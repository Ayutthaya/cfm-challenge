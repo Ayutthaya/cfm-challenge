{
 "cells": [
  {
   "cell_type": "code",
   "execution_count": 1,
   "metadata": {
    "collapsed": false
   },
   "outputs": [
    {
     "name": "stdout",
     "output_type": "stream",
     "text": [
      "Populating the interactive namespace from numpy and matplotlib\n"
     ]
    }
   ],
   "source": [
    "%pylab inline\n",
    "import pandas\n",
    "import gc\n",
    "import sys\n",
    "import seaborn as sns"
   ]
  },
  {
   "cell_type": "code",
   "execution_count": 5,
   "metadata": {
    "collapsed": true
   },
   "outputs": [],
   "source": [
    "sys.path += ['/home/nath/Projects/Kaggle/tools/python']"
   ]
  },
  {
   "cell_type": "code",
   "execution_count": 11,
   "metadata": {
    "collapsed": false
   },
   "outputs": [],
   "source": [
    "import cooking_tools\n",
    "from imp import reload\n",
    "reload(cooking_tools)\n",
    "from cooking_tools import *"
   ]
  },
  {
   "cell_type": "code",
   "execution_count": 7,
   "metadata": {
    "collapsed": true
   },
   "outputs": [],
   "source": [
    "ROOT_DIR = '/home/nath/Projects/challenge-cfm/'"
   ]
  },
  {
   "cell_type": "markdown",
   "metadata": {},
   "source": [
    "## Load data"
   ]
  },
  {
   "cell_type": "code",
   "execution_count": 7,
   "metadata": {
    "collapsed": false
   },
   "outputs": [
    {
     "data": {
      "text/plain": [
       "0"
      ]
     },
     "execution_count": 7,
     "metadata": {},
     "output_type": "execute_result"
    }
   ],
   "source": [
    "train_data = pandas.read_csv(ROOT_DIR + 'data/training_input.csv', usecols=['nb_trade', 'offset', 'ID'])\n",
    "gc.collect()"
   ]
  },
  {
   "cell_type": "code",
   "execution_count": 2,
   "metadata": {
    "collapsed": false
   },
   "outputs": [],
   "source": [
    "target = get_target(ROOT_DIR + 'data/challenge_output_data_training_file_prediction_of_trading_activity_within_the_order_book.csv')"
   ]
  },
  {
   "cell_type": "code",
   "execution_count": 4,
   "metadata": {
    "collapsed": false
   },
   "outputs": [
    {
     "data": {
      "text/plain": [
       "198591"
      ]
     },
     "execution_count": 4,
     "metadata": {},
     "output_type": "execute_result"
    }
   ],
   "source": [
    "(target == 1).sum()"
   ]
  },
  {
   "cell_type": "code",
   "execution_count": 5,
   "metadata": {
    "collapsed": false
   },
   "outputs": [
    {
     "data": {
      "text/plain": [
       "(587214,)"
      ]
     },
     "execution_count": 5,
     "metadata": {},
     "output_type": "execute_result"
    }
   ],
   "source": [
    "target.shape"
   ]
  },
  {
   "cell_type": "markdown",
   "metadata": {},
   "source": [
    "## nb_trade"
   ]
  },
  {
   "cell_type": "code",
   "execution_count": 247,
   "metadata": {
    "collapsed": false
   },
   "outputs": [],
   "source": [
    "nb_trade = get_data(train_data, 'nb_trade', 0)"
   ]
  },
  {
   "cell_type": "code",
   "execution_count": 248,
   "metadata": {
    "collapsed": false
   },
   "outputs": [
    {
     "data": {
      "text/plain": [
       "0.6851999441430211"
      ]
     },
     "execution_count": 248,
     "metadata": {},
     "output_type": "execute_result"
    }
   ],
   "source": [
    "scores = compute_signal_accuracy_scores(nb_trade.values, target)\n",
    "scores.max()"
   ]
  },
  {
   "cell_type": "markdown",
   "metadata": {},
   "source": [
    "## Left EMA nb_trade"
   ]
  },
  {
   "cell_type": "code",
   "execution_count": 249,
   "metadata": {
    "collapsed": false
   },
   "outputs": [
    {
     "name": "stdout",
     "output_type": "stream",
     "text": [
      "0.690491030527\n",
      "0.690688573501\n",
      "0.690795859772\n",
      "0.690787344988\n",
      "0.690656217325\n",
      "0.690623861148\n",
      "0.690596613841\n",
      "0.690537010357\n",
      "0.690267943203\n"
     ]
    }
   ],
   "source": [
    "for com in range(12, 30, 2):\n",
    "    signal = nb_trade.ewm(com=com).mean()\n",
    "    scores = compute_signal_accuracy_scores(signal.values, target)\n",
    "    print(scores.max())"
   ]
  },
  {
   "cell_type": "markdown",
   "metadata": {},
   "source": [
    "## Centered rolling mean nb_trade"
   ]
  },
  {
   "cell_type": "code",
   "execution_count": 250,
   "metadata": {
    "collapsed": false
   },
   "outputs": [
    {
     "name": "stdout",
     "output_type": "stream",
     "text": [
      "0.694292029822\n",
      "0.694259673645\n",
      "0.694435078183\n",
      "0.694429969313\n",
      "0.694521928973\n",
      "0.69449808758\n",
      "0.694373771742\n",
      "0.694484463926\n",
      "0.694545770367\n",
      "0.694353336262\n",
      "0.694360148089\n",
      "0.694210287902\n",
      "0.694116625285\n",
      "0.694041695191\n",
      "0.693876508394\n",
      "0.693798172387\n",
      "0.693774330993\n",
      "0.693697697943\n",
      "0.693716430467\n",
      "0.693738568903\n"
     ]
    }
   ],
   "source": [
    "for window_size in range(80, 120, 2):\n",
    "    signal = nb_trade.rolling(window_size, center=True).mean()\n",
    "    scores = compute_signal_accuracy_scores(signal.values, target)\n",
    "    print(scores.max())"
   ]
  },
  {
   "cell_type": "markdown",
   "metadata": {},
   "source": [
    "## Right EMA nb_trade"
   ]
  },
  {
   "cell_type": "code",
   "execution_count": 84,
   "metadata": {
    "collapsed": false,
    "scrolled": true
   },
   "outputs": [
    {
     "name": "stdout",
     "output_type": "stream",
     "text": [
      "0.69280364569\n",
      "0.693069306931\n",
      "0.693164672504\n",
      "0.693057386234\n",
      "0.693016515274\n",
      "0.69293647631\n",
      "0.69280364569\n",
      "0.692706577159\n",
      "0.692519251925\n"
     ]
    }
   ],
   "source": [
    "for com in range(12, 30, 2):\n",
    "    reversed_nb_trade = nb_trade.iloc[::-1]\n",
    "    signal = reversed_nb_trade.ewm(com=com).mean()\n",
    "    signal = signal.iloc[::-1]\n",
    "    scores = compute_signal_accuracy_scores(signal.values, target)\n",
    "    print(scores.max())"
   ]
  },
  {
   "cell_type": "markdown",
   "metadata": {},
   "source": [
    "## Left rolling mean nb_trade"
   ]
  },
  {
   "cell_type": "code",
   "execution_count": 87,
   "metadata": {
    "collapsed": false,
    "scrolled": true
   },
   "outputs": [
    {
     "name": "stdout",
     "output_type": "stream",
     "text": [
      "0.685414516684\n",
      "0.685741484365\n",
      "0.68600544265\n",
      "0.686269400934\n",
      "0.686441399558\n",
      "0.686431181818\n",
      "0.686346033984\n",
      "0.686397122684\n",
      "0.686625318879\n",
      "0.686707060799\n",
      "0.686693437146\n",
      "0.686538468088\n",
      "0.686277915717\n"
     ]
    }
   ],
   "source": [
    "for window_size in range(25, 50, 2):\n",
    "    signal = nb_trade.rolling(window_size, center=False).mean()\n",
    "    scores = compute_signal_accuracy_scores(signal.values, target)\n",
    "    print(scores.max())"
   ]
  },
  {
   "cell_type": "markdown",
   "metadata": {},
   "source": [
    "## Right rolling mean nb_trade"
   ]
  },
  {
   "cell_type": "code",
   "execution_count": 90,
   "metadata": {
    "collapsed": false
   },
   "outputs": [
    {
     "name": "stdout",
     "output_type": "stream",
     "text": [
      "0.688161385798\n",
      "0.688471323913\n",
      "0.688794885681\n",
      "0.688943042911\n",
      "0.689040111441\n",
      "0.688932825171\n",
      "0.688990725698\n",
      "0.688842568467\n",
      "0.688895360124\n",
      "0.688864706904\n",
      "0.688919201518\n",
      "0.688897063081\n",
      "0.688958369521\n"
     ]
    }
   ],
   "source": [
    "for window_size in range(25, 50, 2):\n",
    "    reversed_nb_trade = nb_trade.iloc[::-1]\n",
    "    signal = reversed_nb_trade.rolling(window_size, center=False).mean()\n",
    "    signal = signal.iloc[::-1]\n",
    "    scores = compute_signal_accuracy_scores(signal.values, target)\n",
    "    print(scores.max())"
   ]
  },
  {
   "cell_type": "markdown",
   "metadata": {},
   "source": [
    "## Two-sided EMA nb_trade"
   ]
  },
  {
   "cell_type": "code",
   "execution_count": 102,
   "metadata": {
    "collapsed": false,
    "scrolled": true
   },
   "outputs": [
    {
     "name": "stdout",
     "output_type": "stream",
     "text": [
      "0.6979993665\n",
      "0.698677143256\n",
      "0.699104585381\n",
      "0.699273178092\n",
      "0.699416226452\n",
      "0.699426444192\n",
      "0.699394088016\n",
      "0.699131832688\n",
      "0.698956428151\n",
      "0.698893418754\n",
      "0.698704390563\n",
      "0.698522174199\n"
     ]
    }
   ],
   "source": [
    "for com in range(6, 30, 2):\n",
    "    signal_left = nb_trade.ewm(com=com).mean()   \n",
    "    \n",
    "    reversed_nb_trade = nb_trade.iloc[::-1]\n",
    "    signal_right = reversed_nb_trade.ewm(com=com).mean()\n",
    "    signal_right = signal_right.iloc[::-1]\n",
    "    \n",
    "    scores = compute_signal_accuracy_scores(signal_left.values + signal_right.values, target)\n",
    "    \n",
    "    print(scores.max())"
   ]
  },
  {
   "cell_type": "code",
   "execution_count": 251,
   "metadata": {
    "collapsed": false
   },
   "outputs": [
    {
     "name": "stdout",
     "output_type": "stream",
     "text": [
      "0.699474126979\n"
     ]
    }
   ],
   "source": [
    "scores = compute_signal_accuracy_scores(two_sided_ema(train_data), target)    \n",
    "print(scores.max())"
   ]
  },
  {
   "cell_type": "markdown",
   "metadata": {},
   "source": [
    "## Mean of two-sided EMA nb_trade"
   ]
  },
  {
   "cell_type": "code",
   "execution_count": 113,
   "metadata": {
    "collapsed": true
   },
   "outputs": [],
   "source": [
    "train_data['time'] = get_time(train_data)"
   ]
  },
  {
   "cell_type": "code",
   "execution_count": 124,
   "metadata": {
    "collapsed": false
   },
   "outputs": [],
   "source": [
    "df = pandas.concat([get_data(train_data, 'time', 0), two_sided_ema(train_data)], axis=1)"
   ]
  },
  {
   "cell_type": "code",
   "execution_count": 129,
   "metadata": {
    "collapsed": false
   },
   "outputs": [],
   "source": [
    "mean_of_two_sided_ema = df.groupby('time').mean().values"
   ]
  },
  {
   "cell_type": "code",
   "execution_count": 145,
   "metadata": {
    "collapsed": false
   },
   "outputs": [],
   "source": [
    "signal = mean_of_two_sided_ema[df['time']].ravel()"
   ]
  },
  {
   "cell_type": "code",
   "execution_count": 146,
   "metadata": {
    "collapsed": false,
    "scrolled": true
   },
   "outputs": [
    {
     "name": "stdout",
     "output_type": "stream",
     "text": [
      "0.683745619144\n"
     ]
    }
   ],
   "source": [
    "scores = compute_signal_accuracy_scores(signal, target)\n",
    "print(scores.max())"
   ]
  },
  {
   "cell_type": "markdown",
   "metadata": {},
   "source": [
    "## 3 days rolling mean of two-sided EMA"
   ]
  },
  {
   "cell_type": "code",
   "execution_count": 155,
   "metadata": {
    "collapsed": false
   },
   "outputs": [],
   "source": [
    "df['two_sided_ema_day_before'] = df['two_sided_ema'].shift(-DAY).fillna(df['two_sided_ema'])"
   ]
  },
  {
   "cell_type": "code",
   "execution_count": 157,
   "metadata": {
    "collapsed": false
   },
   "outputs": [],
   "source": [
    "df['two_sided_ema_next_day'] = df['two_sided_ema'].shift(DAY).fillna(df['two_sided_ema'])"
   ]
  },
  {
   "cell_type": "code",
   "execution_count": 160,
   "metadata": {
    "collapsed": true
   },
   "outputs": [],
   "source": [
    "signal = df['two_sided_ema'] + 0.5*(df['two_sided_ema_day_before'] + df['two_sided_ema_next_day'])"
   ]
  },
  {
   "cell_type": "code",
   "execution_count": 169,
   "metadata": {
    "collapsed": false,
    "scrolled": true
   },
   "outputs": [
    {
     "name": "stdout",
     "output_type": "stream",
     "text": [
      "0.699474126979\n",
      "0.700162121475\n",
      "0.700366476276\n",
      "0.700351149666\n",
      "0.699991825808\n",
      "0.699532027506\n",
      "0.69891555719\n",
      "0.698346769661\n",
      "0.697709863866\n",
      "0.697064443286\n"
     ]
    }
   ],
   "source": [
    "for alpha in np.linspace(0,0.5, 10):\n",
    "    signal = df['two_sided_ema'] + alpha*(df['two_sided_ema_day_before'] + df['two_sided_ema_next_day'])\n",
    "    scores = compute_signal_accuracy_scores(signal, target)\n",
    "    print(scores.max())"
   ]
  },
  {
   "cell_type": "code",
   "execution_count": 9,
   "metadata": {
    "collapsed": false
   },
   "outputs": [
    {
     "name": "stdout",
     "output_type": "stream",
     "text": [
      "0.699474126979\n",
      "0.700162121475\n",
      "0.700366476276\n",
      "0.700351149666\n",
      "0.699991825808\n",
      "0.699532027506\n",
      "0.69891555719\n",
      "0.698346769661\n",
      "0.697709863866\n",
      "0.697064443286\n"
     ]
    }
   ],
   "source": [
    "for alpha in np.linspace(0,0.5, 10):\n",
    "    tse = two_sided_ema(train_data)\n",
    "    signal = tse + alpha*(day_shift(tse, -1) + day_shift(tse, 1))\n",
    "    scores = compute_signal_accuracy_scores(signal, target)\n",
    "    print(scores.max())"
   ]
  },
  {
   "cell_type": "markdown",
   "metadata": {},
   "source": [
    "## Simple MMP"
   ]
  },
  {
   "cell_type": "code",
   "execution_count": 11,
   "metadata": {
    "collapsed": false
   },
   "outputs": [],
   "source": [
    "train_data = None\n",
    "gc.collect()\n",
    "train_data = pandas.read_csv(ROOT_DIR + 'data/training_input.csv', usecols=['offset', 'bid_size_1', 'ask_size_1', 'bid_size_2', 'ask_size_2', 'ID'])"
   ]
  },
  {
   "cell_type": "code",
   "execution_count": 254,
   "metadata": {
    "collapsed": false
   },
   "outputs": [],
   "source": [
    "bid_size_1 = get_data(train_data, 'bid_size_1', 0)\n",
    "ask_size_1 = get_data(train_data, 'ask_size_1', 0)\n",
    "simple_mmp = mmp(bid_size_1, ask_size_1)"
   ]
  },
  {
   "cell_type": "code",
   "execution_count": 255,
   "metadata": {
    "collapsed": false
   },
   "outputs": [
    {
     "name": "stdout",
     "output_type": "stream",
     "text": [
      "0.666310748722\n"
     ]
    }
   ],
   "source": [
    "scores = compute_signal_accuracy_scores(simple_mmp.abs(), target)\n",
    "print(scores.max())"
   ]
  },
  {
   "cell_type": "markdown",
   "metadata": {},
   "source": [
    "## Two levels MMP"
   ]
  },
  {
   "cell_type": "code",
   "execution_count": 262,
   "metadata": {
    "collapsed": false
   },
   "outputs": [],
   "source": [
    "q_bid = get_data(train_data, 'bid_size_1', 0) + get_data(train_data, 'bid_size_2', 0)\n",
    "q_ask = get_data(train_data, 'ask_size_1', 0) + get_data(train_data, 'ask_size_2', 0)"
   ]
  },
  {
   "cell_type": "code",
   "execution_count": 263,
   "metadata": {
    "collapsed": false
   },
   "outputs": [
    {
     "name": "stdout",
     "output_type": "stream",
     "text": [
      "0.661915417548\n"
     ]
    }
   ],
   "source": [
    "mmp_2 = mmp(q_bid, q_ask)\n",
    "scores = compute_signal_accuracy_scores(mmp_2.abs(), target)\n",
    "print(scores.max())"
   ]
  },
  {
   "cell_type": "markdown",
   "metadata": {},
   "source": [
    "## Rolling mean sizes MMP"
   ]
  },
  {
   "cell_type": "code",
   "execution_count": 270,
   "metadata": {
    "collapsed": false
   },
   "outputs": [],
   "source": [
    "bid_size_ma = get_data(train_data, 'bid_size_1', 0).rolling(3).mean()\n",
    "ask_size_ma = get_data(train_data, 'ask_size_1', 0).rolling(3).mean()\n",
    "mmp = mmp(bid_size_ma, ask_size_ma)"
   ]
  },
  {
   "cell_type": "code",
   "execution_count": 271,
   "metadata": {
    "collapsed": false
   },
   "outputs": [
    {
     "name": "stdout",
     "output_type": "stream",
     "text": [
      "0.661811537191\n"
     ]
    }
   ],
   "source": [
    "scores = compute_signal_accuracy_scores(mmp.abs(), target)\n",
    "print(scores.max())"
   ]
  },
  {
   "cell_type": "markdown",
   "metadata": {},
   "source": [
    "## Epoch averaged sizes MMP"
   ]
  },
  {
   "cell_type": "code",
   "execution_count": 222,
   "metadata": {
    "collapsed": true
   },
   "outputs": [],
   "source": [
    "bid_size_ave = get_epoch_average(train_data, 'bid_size_1')\n",
    "ask_size_ave = get_epoch_average(train_data, 'ask_size_1')\n",
    "mmp_ave = mmp(bid_size_ave, ask_size_ave)"
   ]
  },
  {
   "cell_type": "code",
   "execution_count": 225,
   "metadata": {
    "collapsed": false,
    "scrolled": false
   },
   "outputs": [
    {
     "name": "stdout",
     "output_type": "stream",
     "text": [
      "0.661820051974\n"
     ]
    }
   ],
   "source": [
    "scores = compute_signal_accuracy_scores(np.abs(mmp_ave), target)\n",
    "print(scores.max())"
   ]
  },
  {
   "cell_type": "markdown",
   "metadata": {},
   "source": [
    "## Consecutive size diff"
   ]
  },
  {
   "cell_type": "code",
   "execution_count": 288,
   "metadata": {
    "collapsed": false
   },
   "outputs": [],
   "source": [
    "signal = np.abs(get_data(train_data, 'bid_size_1', 0).values - get_data(train_data, 'bid_size_1', -1000).shift(1).values)"
   ]
  },
  {
   "cell_type": "code",
   "execution_count": 289,
   "metadata": {
    "collapsed": false
   },
   "outputs": [
    {
     "name": "stdout",
     "output_type": "stream",
     "text": [
      "0.664645257095\n"
     ]
    }
   ],
   "source": [
    "scores = compute_signal_accuracy_scores(signal, target)\n",
    "print(scores.max())"
   ]
  },
  {
   "cell_type": "code",
   "execution_count": 294,
   "metadata": {
    "collapsed": false
   },
   "outputs": [],
   "source": [
    "signal = np.abs(get_data(train_data, 'bid_size_1', 0).values - get_data(train_data, 'bid_size_1', -1000).values)"
   ]
  },
  {
   "cell_type": "code",
   "execution_count": 295,
   "metadata": {
    "collapsed": false
   },
   "outputs": [
    {
     "name": "stdout",
     "output_type": "stream",
     "text": [
      "0.670993879574\n"
     ]
    }
   ],
   "source": [
    "scores = compute_signal_accuracy_scores(signal, target)\n",
    "print(scores.max())"
   ]
  },
  {
   "cell_type": "code",
   "execution_count": 298,
   "metadata": {
    "collapsed": false
   },
   "outputs": [
    {
     "name": "stdout",
     "output_type": "stream",
     "text": [
      "0\n",
      "0.662237276359\n",
      "-10\n",
      "0.665457567429\n",
      "-20\n",
      "0.665486517692\n",
      "-50\n",
      "0.666642825273\n",
      "-100\n",
      "0.668412197257\n",
      "-200\n",
      "0.670258202291\n",
      "-500\n",
      "0.671813001734\n",
      "-1000\n",
      "0.670993879574\n"
     ]
    }
   ],
   "source": [
    "for offset in OFFSETS:\n",
    "    signal = np.abs(get_data(train_data, 'bid_size_1', 0).values - get_data(train_data, 'bid_size_1', offset).values)\n",
    "    scores = compute_signal_accuracy_scores(signal, target)\n",
    "    print(offset)\n",
    "    print(scores.max())"
   ]
  },
  {
   "cell_type": "code",
   "execution_count": 13,
   "metadata": {
    "collapsed": false
   },
   "outputs": [
    {
     "name": "stdout",
     "output_type": "stream",
     "text": [
      "0\n",
      "0.662237276359\n",
      "-10\n",
      "0.665457567429\n",
      "-20\n",
      "0.665486517692\n",
      "-50\n",
      "0.666642825273\n",
      "-100\n",
      "0.668412197257\n",
      "-200\n",
      "0.670258202291\n",
      "-500\n",
      "0.671813001734\n",
      "-1000\n",
      "0.670993879574\n"
     ]
    }
   ],
   "source": [
    "for offset in OFFSETS:\n",
    "    signal = get_epoch_open_close(train_data, 'bid_size_1', offset)\n",
    "    scores = compute_signal_accuracy_scores(signal, target)\n",
    "    print(offset)\n",
    "    print(scores.max())"
   ]
  },
  {
   "cell_type": "code",
   "execution_count": 299,
   "metadata": {
    "collapsed": false
   },
   "outputs": [
    {
     "name": "stdout",
     "output_type": "stream",
     "text": [
      "0\n",
      "0.662237276359\n",
      "-10\n",
      "0.665532497522\n",
      "-20\n",
      "0.665844138593\n",
      "-50\n",
      "0.667470462217\n",
      "-100\n",
      "0.668674452585\n",
      "-200\n",
      "0.670103233234\n",
      "-500\n",
      "0.671542231623\n",
      "-1000\n",
      "0.67080655434\n"
     ]
    }
   ],
   "source": [
    "for offset in OFFSETS:\n",
    "    signal = np.abs(get_data(train_data, 'ask_size_1', 0).values - get_data(train_data, 'ask_size_1', offset).values)\n",
    "    scores = compute_signal_accuracy_scores(signal, target)\n",
    "    print(offset)\n",
    "    print(scores.max())"
   ]
  },
  {
   "cell_type": "code",
   "execution_count": 300,
   "metadata": {
    "collapsed": false,
    "scrolled": true
   },
   "outputs": [
    {
     "name": "stdout",
     "output_type": "stream",
     "text": [
      "0\n",
      "0.662237276359\n",
      "-10\n",
      "0.663855085199\n",
      "-20\n",
      "0.664686128056\n",
      "-50\n",
      "0.666440173429\n",
      "-100\n",
      "0.667984755132\n",
      "-200\n",
      "0.670222440201\n",
      "-500\n",
      "0.672114425065\n",
      "-1000\n",
      "0.67185046678\n"
     ]
    }
   ],
   "source": [
    "for offset in OFFSETS:\n",
    "    signal = np.abs(get_data(train_data, 'ask_size_2', 0).values - get_data(train_data, 'ask_size_2', offset).values)\n",
    "    scores = compute_signal_accuracy_scores(signal, target)\n",
    "    print(offset)\n",
    "    print(scores.max())"
   ]
  },
  {
   "cell_type": "code",
   "execution_count": 301,
   "metadata": {
    "collapsed": false
   },
   "outputs": [
    {
     "name": "stdout",
     "output_type": "stream",
     "text": [
      "0\n",
      "0.662237276359\n",
      "-10\n",
      "0.663638809701\n",
      "-20\n",
      "0.664531158998\n",
      "-50\n",
      "0.666344807855\n",
      "-100\n",
      "0.668015408352\n",
      "-200\n",
      "0.670215628374\n",
      "-500\n",
      "0.672388601089\n",
      "-1000\n",
      "0.671663141546\n"
     ]
    }
   ],
   "source": [
    "for offset in OFFSETS:\n",
    "    signal = np.abs(get_data(train_data, 'bid_size_2', 0).values - get_data(train_data, 'bid_size_2', offset).values)\n",
    "    scores = compute_signal_accuracy_scores(signal, target)\n",
    "    print(offset)\n",
    "    print(scores.max())"
   ]
  },
  {
   "cell_type": "markdown",
   "metadata": {},
   "source": [
    "## Absurd signals"
   ]
  },
  {
   "cell_type": "code",
   "execution_count": 302,
   "metadata": {
    "collapsed": false,
    "scrolled": true
   },
   "outputs": [
    {
     "name": "stdout",
     "output_type": "stream",
     "text": [
      "0\n",
      "0.661808131278\n",
      "-10\n",
      "0.661808131278\n",
      "-20\n",
      "0.661808131278\n",
      "-50\n",
      "0.661809834234\n",
      "-100\n",
      "0.661816646061\n",
      "-200\n",
      "0.661808131278\n",
      "-500\n",
      "0.661808131278\n",
      "-1000\n",
      "0.661808131278\n"
     ]
    }
   ],
   "source": [
    "for offset in OFFSETS:\n",
    "    signal = np.abs(get_data(train_data, 'bid_size_1', 0).values - get_data(train_data, 'bid_size_2', offset).values)\n",
    "    scores = compute_signal_accuracy_scores(signal, target)\n",
    "    print(offset)\n",
    "    print(scores.max())"
   ]
  },
  {
   "cell_type": "code",
   "execution_count": 322,
   "metadata": {
    "collapsed": false
   },
   "outputs": [
    {
     "name": "stdout",
     "output_type": "stream",
     "text": [
      "0.674278882997\n"
     ]
    }
   ],
   "source": [
    "scores = compute_signal_accuracy_scores(get_epoch_std(train_data, 'bid_size_1'), target)\n",
    "print(scores.max())"
   ]
  },
  {
   "cell_type": "code",
   "execution_count": 323,
   "metadata": {
    "collapsed": false
   },
   "outputs": [
    {
     "name": "stdout",
     "output_type": "stream",
     "text": [
      "0.674881729659\n"
     ]
    }
   ],
   "source": [
    "scores = compute_signal_accuracy_scores(get_epoch_std(train_data, 'bid_size_2'), target)\n",
    "print(scores.max())"
   ]
  },
  {
   "cell_type": "code",
   "execution_count": 324,
   "metadata": {
    "collapsed": false
   },
   "outputs": [
    {
     "name": "stdout",
     "output_type": "stream",
     "text": [
      "0.67422098247\n"
     ]
    }
   ],
   "source": [
    "scores = compute_signal_accuracy_scores(get_epoch_std(train_data, 'ask_size_1'), target)\n",
    "print(scores.max())"
   ]
  },
  {
   "cell_type": "code",
   "execution_count": 325,
   "metadata": {
    "collapsed": false
   },
   "outputs": [
    {
     "name": "stdout",
     "output_type": "stream",
     "text": [
      "0.674827235045\n"
     ]
    }
   ],
   "source": [
    "scores = compute_signal_accuracy_scores(get_epoch_std(train_data, 'ask_size_2'), target)\n",
    "print(scores.max())"
   ]
  },
  {
   "cell_type": "code",
   "execution_count": 326,
   "metadata": {
    "collapsed": false
   },
   "outputs": [
    {
     "name": "stdout",
     "output_type": "stream",
     "text": [
      "0.663213070533\n"
     ]
    }
   ],
   "source": [
    "scores = compute_signal_accuracy_scores(get_data(train_data, 'bid_size_1', 0).rolling(window=8, center=True).std(), target)\n",
    "print(scores.max())"
   ]
  },
  {
   "cell_type": "code",
   "execution_count": 16,
   "metadata": {
    "collapsed": false
   },
   "outputs": [
    {
     "name": "stdout",
     "output_type": "stream",
     "text": [
      "0.663213070533\n"
     ]
    }
   ],
   "source": [
    "scores = compute_signal_accuracy_scores(get_rolling(train_data, 'bid_size_1', -4, 4).std(), target)\n",
    "print(scores.max())"
   ]
  },
  {
   "cell_type": "code",
   "execution_count": 337,
   "metadata": {
    "collapsed": false
   },
   "outputs": [
    {
     "name": "stdout",
     "output_type": "stream",
     "text": [
      "0.674924303576\n"
     ]
    }
   ],
   "source": [
    "stack = np.vstack([get_data(train_data, 'bid_size_1', offset) for offset in OFFSETS])\n",
    "high = stack.max(axis=0)\n",
    "low = stack.min(axis=0)\n",
    "scores = compute_signal_accuracy_scores(high - low, target)\n",
    "print(scores.max())"
   ]
  },
  {
   "cell_type": "code",
   "execution_count": 19,
   "metadata": {
    "collapsed": false
   },
   "outputs": [
    {
     "name": "stdout",
     "output_type": "stream",
     "text": [
      "0.674924303576\n"
     ]
    }
   ],
   "source": [
    "scores = compute_signal_accuracy_scores(get_epoch_high_low(train_data, 'bid_size_1'), target)\n",
    "print(scores.max())"
   ]
  },
  {
   "cell_type": "code",
   "execution_count": 338,
   "metadata": {
    "collapsed": false
   },
   "outputs": [
    {
     "name": "stdout",
     "output_type": "stream",
     "text": [
      "0.675205291427\n"
     ]
    }
   ],
   "source": [
    "stack = np.vstack([get_data(train_data, 'bid_size_2', offset) for offset in OFFSETS])\n",
    "high = stack.max(axis=0)\n",
    "low = stack.min(axis=0)\n",
    "scores = compute_signal_accuracy_scores(high - low, target)\n",
    "print(scores.max())"
   ]
  },
  {
   "cell_type": "markdown",
   "metadata": {},
   "source": [
    "## Entry-based MMP"
   ]
  },
  {
   "cell_type": "code",
   "execution_count": 303,
   "metadata": {
    "collapsed": false
   },
   "outputs": [
    {
     "data": {
      "text/plain": [
       "489"
      ]
     },
     "execution_count": 303,
     "metadata": {},
     "output_type": "execute_result"
    }
   ],
   "source": [
    "train_data = pandas.read_csv(ROOT_DIR + 'data/training_input.csv', usecols=['offset', 'bid_entry_1', 'ask_entry_1', 'ID'])\n",
    "gc.collect()"
   ]
  },
  {
   "cell_type": "code",
   "execution_count": 265,
   "metadata": {
    "collapsed": false
   },
   "outputs": [],
   "source": [
    "bid_entry_1 = get_data(train_data, 'bid_entry_1', 0)\n",
    "ask_entry_1 = get_data(train_data, 'ask_entry_1', 0)\n",
    "mmp_entry = mmp(bid_entry_1, ask_entry_1)"
   ]
  },
  {
   "cell_type": "code",
   "execution_count": 266,
   "metadata": {
    "collapsed": false,
    "scrolled": true
   },
   "outputs": [
    {
     "name": "stdout",
     "output_type": "stream",
     "text": [
      "0.665144223401\n"
     ]
    }
   ],
   "source": [
    "scores = compute_signal_accuracy_scores(mmp_entry.abs(), target)\n",
    "print(scores.max())"
   ]
  },
  {
   "cell_type": "markdown",
   "metadata": {},
   "source": [
    "## Consecutive entry diff"
   ]
  },
  {
   "cell_type": "code",
   "execution_count": 241,
   "metadata": {
    "collapsed": false
   },
   "outputs": [],
   "source": [
    "signal = np.abs(get_data(train_data, 'bid_entry_1', 0).values - get_data(train_data, 'bid_entry_1', -1000).shift(1).values)"
   ]
  },
  {
   "cell_type": "code",
   "execution_count": 244,
   "metadata": {
    "collapsed": false
   },
   "outputs": [
    {
     "name": "stdout",
     "output_type": "stream",
     "text": [
      "0.66401346017\n"
     ]
    }
   ],
   "source": [
    "scores = compute_signal_accuracy_scores(signal, target)\n",
    "print(scores.max())"
   ]
  },
  {
   "cell_type": "code",
   "execution_count": 277,
   "metadata": {
    "collapsed": true
   },
   "outputs": [],
   "source": [
    "signal = np.abs(get_data(train_data, 'bid_entry_1', 0).values - get_data(train_data, 'bid_entry_1', 0).shift(1).values)"
   ]
  },
  {
   "cell_type": "code",
   "execution_count": 278,
   "metadata": {
    "collapsed": false
   },
   "outputs": [
    {
     "name": "stdout",
     "output_type": "stream",
     "text": [
      "0.663277782887\n"
     ]
    }
   ],
   "source": [
    "scores = compute_signal_accuracy_scores(signal, target)\n",
    "print(scores.max())"
   ]
  },
  {
   "cell_type": "code",
   "execution_count": 273,
   "metadata": {
    "collapsed": true
   },
   "outputs": [],
   "source": [
    "signal = np.abs(get_data(train_data, 'bid_entry_1', 0).values - get_data(train_data, 'bid_entry_1', -1000).shift(-1).values)"
   ]
  },
  {
   "cell_type": "code",
   "execution_count": 274,
   "metadata": {
    "collapsed": false
   },
   "outputs": [
    {
     "name": "stdout",
     "output_type": "stream",
     "text": [
      "0.662107851652\n"
     ]
    }
   ],
   "source": [
    "scores = compute_signal_accuracy_scores(signal, target)\n",
    "print(scores.max())"
   ]
  },
  {
   "cell_type": "code",
   "execution_count": 275,
   "metadata": {
    "collapsed": true
   },
   "outputs": [],
   "source": [
    "signal = np.abs(get_data(train_data, 'bid_entry_1', 0).values - get_data(train_data, 'bid_entry_1', 0).shift(-1).values)"
   ]
  },
  {
   "cell_type": "code",
   "execution_count": 276,
   "metadata": {
    "collapsed": false
   },
   "outputs": [
    {
     "name": "stdout",
     "output_type": "stream",
     "text": [
      "0.662010783122\n"
     ]
    }
   ],
   "source": [
    "scores = compute_signal_accuracy_scores(signal, target)\n",
    "print(scores.max())"
   ]
  },
  {
   "cell_type": "code",
   "execution_count": 279,
   "metadata": {
    "collapsed": true
   },
   "outputs": [],
   "source": [
    "signal = np.abs(get_data(train_data, 'ask_entry_1', 0).values - get_data(train_data, 'ask_entry_1', -1000).shift(1).values)"
   ]
  },
  {
   "cell_type": "code",
   "execution_count": 280,
   "metadata": {
    "collapsed": false
   },
   "outputs": [
    {
     "name": "stdout",
     "output_type": "stream",
     "text": [
      "0.66401346017\n"
     ]
    }
   ],
   "source": [
    "scores = compute_signal_accuracy_scores(signal, target)\n",
    "print(scores.max())"
   ]
  },
  {
   "cell_type": "code",
   "execution_count": 305,
   "metadata": {
    "collapsed": false,
    "scrolled": false
   },
   "outputs": [
    {
     "name": "stdout",
     "output_type": "stream",
     "text": [
      "0\n",
      "0.662237276359\n",
      "-10\n",
      "0.665043748957\n",
      "-20\n",
      "0.665551230046\n",
      "-50\n",
      "0.666554271526\n",
      "-100\n",
      "0.668398573603\n",
      "-200\n",
      "0.669965293743\n",
      "-500\n",
      "0.671150551588\n",
      "-1000\n",
      "0.669440783088\n"
     ]
    }
   ],
   "source": [
    "for offset in OFFSETS:\n",
    "    signal = np.abs(get_data(train_data, 'bid_entry_1', 0).values - get_data(train_data, 'bid_entry_1', offset).values)\n",
    "    scores = compute_signal_accuracy_scores(signal, target)\n",
    "    print(offset)\n",
    "    print(scores.max())"
   ]
  },
  {
   "cell_type": "markdown",
   "metadata": {},
   "source": [
    "## Epoch std bid_entry"
   ]
  },
  {
   "cell_type": "code",
   "execution_count": 318,
   "metadata": {
    "collapsed": false
   },
   "outputs": [
    {
     "name": "stdout",
     "output_type": "stream",
     "text": [
      "0.673192396639\n"
     ]
    }
   ],
   "source": [
    "scores = compute_signal_accuracy_scores(get_epoch_std(train_data, 'bid_entry_1'), target)\n",
    "print(scores.max())"
   ]
  },
  {
   "cell_type": "code",
   "execution_count": 320,
   "metadata": {
    "collapsed": false
   },
   "outputs": [
    {
     "name": "stdout",
     "output_type": "stream",
     "text": [
      "0.672948873835\n"
     ]
    }
   ],
   "source": [
    "scores = compute_signal_accuracy_scores(get_epoch_std(train_data, 'ask_entry_1'), target)\n",
    "print(scores.max())"
   ]
  },
  {
   "cell_type": "markdown",
   "metadata": {},
   "source": [
    "## Vol"
   ]
  },
  {
   "cell_type": "code",
   "execution_count": 8,
   "metadata": {
    "collapsed": false
   },
   "outputs": [],
   "source": [
    "train_data = None\n",
    "gc.collect()\n",
    "train_data = pandas.read_csv(ROOT_DIR + 'data/training_input.csv', usecols=['offset', 'bid_1', 'ask_1', 'ID'])"
   ]
  },
  {
   "cell_type": "code",
   "execution_count": 331,
   "metadata": {
    "collapsed": false
   },
   "outputs": [
    {
     "name": "stdout",
     "output_type": "stream",
     "text": [
      "0.678132673949\n",
      "0.681272926054\n",
      "0.681516448859\n",
      "0.681862149063\n",
      "0.681758268706\n",
      "0.681461954245\n",
      "0.680814830709\n",
      "0.680418041804\n"
     ]
    }
   ],
   "source": [
    "for window_size in range(4, 20, 2):\n",
    "    scores = compute_signal_accuracy_scores(get_data(train_data, 'bid_1', 0).rolling(window_size, center=True).std(), target)\n",
    "    print(scores.max())"
   ]
  },
  {
   "cell_type": "code",
   "execution_count": 345,
   "metadata": {
    "collapsed": false,
    "scrolled": true
   },
   "outputs": [
    {
     "name": "stdout",
     "output_type": "stream",
     "text": [
      "0.678241663176\n",
      "0.682497351902\n",
      "0.683011644818\n",
      "0.684389336766\n",
      "0.683881855678\n",
      "0.684740145841\n",
      "0.684302485976\n",
      "0.684030012908\n"
     ]
    }
   ],
   "source": [
    "for window_size in range(4, 20, 2):\n",
    "    high = get_data(train_data, 'bid_1', 0).rolling(window_size, center=True).max()\n",
    "    low = get_data(train_data, 'bid_1', 0).rolling(window_size, center=True).min()\n",
    "    scores = compute_signal_accuracy_scores(high - low, target)\n",
    "    print(scores.max())"
   ]
  },
  {
   "cell_type": "code",
   "execution_count": 353,
   "metadata": {
    "collapsed": false
   },
   "outputs": [
    {
     "name": "stdout",
     "output_type": "stream",
     "text": [
      "0.673890608875\n"
     ]
    }
   ],
   "source": [
    "stack = np.vstack([get_data(train_data, 'bid_1', offset) for offset in OFFSETS])\n",
    "high = stack.max(axis=0)\n",
    "low = stack.min(axis=0)\n",
    "scores = compute_signal_accuracy_scores(high - low, target)\n",
    "print(scores.max())"
   ]
  },
  {
   "cell_type": "markdown",
   "metadata": {},
   "source": [
    "## Trend"
   ]
  },
  {
   "cell_type": "code",
   "execution_count": 361,
   "metadata": {
    "collapsed": false
   },
   "outputs": [
    {
     "name": "stdout",
     "output_type": "stream",
     "text": [
      "0.671826625387\n",
      "0.672477154836\n",
      "0.672451610486\n",
      "0.671874308174\n",
      "0.671942426441\n",
      "0.671714230247\n",
      "0.670598793625\n",
      "0.670476180745\n"
     ]
    }
   ],
   "source": [
    "for window_size in range(4, 20, 2):\n",
    "    signal = np.abs(get_data(train_data, 'bid_1', 0) - get_data(train_data, 'bid_1', 0).rolling(window_size, center=False).mean())\n",
    "    scores = compute_signal_accuracy_scores(signal, target)\n",
    "    print(scores.max())"
   ]
  },
  {
   "cell_type": "code",
   "execution_count": 12,
   "metadata": {
    "collapsed": false
   },
   "outputs": [],
   "source": [
    "clf = BaggingLogisticRegression(n_estimators=3)"
   ]
  },
  {
   "cell_type": "code",
   "execution_count": 13,
   "metadata": {
    "collapsed": true
   },
   "outputs": [],
   "source": [
    "bid_1 = get_data(train_data, 'bid_1', 0)\n",
    "X = np.vstack([bid_1.shift(i).fillna(bid_1) for i in range(5)]).T"
   ]
  },
  {
   "cell_type": "code",
   "execution_count": 14,
   "metadata": {
    "collapsed": false
   },
   "outputs": [
    {
     "data": {
      "text/plain": [
       "(587214, 5)"
      ]
     },
     "execution_count": 14,
     "metadata": {},
     "output_type": "execute_result"
    }
   ],
   "source": [
    "from sklearn.model_selection import cross_val_score\n"
   ]
  },
  {
   "cell_type": "code",
   "execution_count": 22,
   "metadata": {
    "collapsed": false
   },
   "outputs": [
    {
     "name": "stdout",
     "output_type": "stream",
     "text": [
      "0.671826625387\n",
      "0.672477154836\n",
      "0.672451610486\n",
      "0.671874308174\n",
      "0.671942426441\n",
      "0.671714230247\n",
      "0.670598793625\n",
      "0.670476180745\n"
     ]
    }
   ],
   "source": [
    "for window_size in range(4, 20, 2):\n",
    "    signal = np.abs(get_data(train_data, 'bid_1', 0) - get_rolling(train_data, 'bid_1', -window_size, 0).mean())\n",
    "    scores = compute_signal_accuracy_scores(signal, target)\n",
    "    print(scores.max())"
   ]
  },
  {
   "cell_type": "code",
   "execution_count": 24,
   "metadata": {
    "collapsed": false
   },
   "outputs": [
    {
     "name": "stdout",
     "output_type": "stream",
     "text": [
      "0.662237276359\n",
      "0.668417306127\n",
      "0.668115882796\n",
      "0.66823679272\n",
      "0.668401979517\n",
      "0.668250416373\n",
      "0.667547095267\n",
      "0.667310384289\n",
      "0.667080485138\n"
     ]
    }
   ],
   "source": [
    "for window_size in range(1, 10, 1):\n",
    "    signal = np.abs(get_data(train_data, 'bid_1', 0) - get_rolling(train_data, 'bid_1', 0, window_size).mean())\n",
    "    scores = compute_signal_accuracy_scores(signal, target)\n",
    "    print(scores.max())"
   ]
  },
  {
   "cell_type": "code",
   "execution_count": 4,
   "metadata": {
    "collapsed": false
   },
   "outputs": [
    {
     "name": "stdout",
     "output_type": "stream",
     "text": [
      "0.677020643241\n",
      "0.678703164434\n",
      "0.677994734458\n",
      "0.678817262531\n",
      "0.679026726202\n",
      "0.678241663176\n",
      "0.678159921255\n",
      "0.678248475002\n"
     ]
    }
   ],
   "source": [
    "for window_size in range(4, 20, 2):\n",
    "    signal = np.abs(get_data(train_data, 'bid_1', 0).shift(-window_size) - get_data(train_data, 'bid_1', 0))\n",
    "    scores = compute_signal_accuracy_scores(signal, target)\n",
    "    print(scores.max())"
   ]
  },
  {
   "cell_type": "code",
   "execution_count": 5,
   "metadata": {
    "collapsed": false
   },
   "outputs": [
    {
     "name": "stdout",
     "output_type": "stream",
     "text": [
      "0.677027455067\n",
      "0.678713382174\n",
      "0.678008358111\n",
      "0.678834292098\n",
      "0.679047161682\n",
      "0.678265504569\n",
      "0.678187168562\n",
      "0.678279128222\n"
     ]
    }
   ],
   "source": [
    "for window_size in range(4, 20, 2):\n",
    "    signal = np.abs(get_data(train_data, 'bid_1', 0).shift(window_size) - get_data(train_data, 'bid_1', 0))\n",
    "    scores = compute_signal_accuracy_scores(signal, target)\n",
    "    print(scores.max())"
   ]
  },
  {
   "cell_type": "code",
   "execution_count": 8,
   "metadata": {
    "collapsed": false
   },
   "outputs": [
    {
     "name": "stdout",
     "output_type": "stream",
     "text": [
      "0.677024049154\n",
      "0.678708273304\n",
      "0.678001546285\n",
      "0.678825777315\n",
      "0.679036943942\n",
      "0.678253583872\n",
      "0.678173544909\n",
      "0.678263801612\n"
     ]
    }
   ],
   "source": [
    "for window_size in range(2, 10, 1):\n",
    "    signal = np.abs(get_data(train_data, 'bid_1', 0).shift(window_size) - get_data(train_data, 'bid_1', 0).shift(-window_size))\n",
    "    scores = compute_signal_accuracy_scores(signal, target)\n",
    "    print(scores.max())"
   ]
  },
  {
   "cell_type": "code",
   "execution_count": 25,
   "metadata": {
    "collapsed": false
   },
   "outputs": [
    {
     "name": "stdout",
     "output_type": "stream",
     "text": [
      "0.677024049154\n",
      "0.678708273304\n",
      "0.678001546285\n",
      "0.678825777315\n",
      "0.679036943942\n",
      "0.678253583872\n",
      "0.678173544909\n",
      "0.678263801612\n"
     ]
    }
   ],
   "source": [
    "for window_size in range(2, 10, 1):\n",
    "    signal = get_open_close(train_data, 'bid_1', -window_size, window_size)\n",
    "    scores = compute_signal_accuracy_scores(signal, target)\n",
    "    print(scores.max())"
   ]
  },
  {
   "cell_type": "code",
   "execution_count": 11,
   "metadata": {
    "collapsed": false
   },
   "outputs": [
    {
     "name": "stdout",
     "output_type": "stream",
     "text": [
      "0.673761184168\n"
     ]
    }
   ],
   "source": [
    "signal = np.abs(get_data(train_data, 'bid_1', 0) - get_epoch_mean(train_data, 'bid_1'))\n",
    "scores = compute_signal_accuracy_scores(signal, target)\n",
    "print(scores.max())"
   ]
  },
  {
   "cell_type": "markdown",
   "metadata": {},
   "source": [
    "## bid_1 - bid_2"
   ]
  },
  {
   "cell_type": "code",
   "execution_count": 339,
   "metadata": {
    "collapsed": true
   },
   "outputs": [],
   "source": [
    "train_data = None\n",
    "gc.collect()\n",
    "train_data = pandas.read_csv(ROOT_DIR + 'data/training_input.csv', usecols=['offset', 'bid_1', 'bid_2', 'ID'])"
   ]
  },
  {
   "cell_type": "code",
   "execution_count": 340,
   "metadata": {
    "collapsed": true
   },
   "outputs": [],
   "source": [
    "diff = train_data['bid_1'] - train_data['bid_2']"
   ]
  },
  {
   "cell_type": "code",
   "execution_count": 344,
   "metadata": {
    "collapsed": false
   },
   "outputs": [
    {
     "data": {
      "text/plain": [
       "1.0"
      ]
     },
     "execution_count": 344,
     "metadata": {},
     "output_type": "execute_result"
    }
   ],
   "source": [
    "diff.max()"
   ]
  }
 ],
 "metadata": {
  "anaconda-cloud": {},
  "kernelspec": {
   "display_name": "Python [Root]",
   "language": "python",
   "name": "Python [Root]"
  }
 },
 "nbformat": 4,
 "nbformat_minor": 0
}
