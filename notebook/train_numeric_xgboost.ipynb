{
 "cells": [
  {
   "cell_type": "markdown",
   "metadata": {},
   "source": [
    "### Imports"
   ]
  },
  {
   "cell_type": "code",
   "execution_count": 1,
   "metadata": {
    "collapsed": false
   },
   "outputs": [
    {
     "name": "stderr",
     "output_type": "stream",
     "text": [
      "/home/ubuntu/anaconda3/lib/python3.5/site-packages/matplotlib/font_manager.py:273: UserWarning: Matplotlib is building the font cache using fc-list. This may take a moment.\n",
      "  warnings.warn('Matplotlib is building the font cache using fc-list. This may take a moment.')\n",
      "/home/ubuntu/anaconda3/lib/python3.5/site-packages/matplotlib/font_manager.py:273: UserWarning: Matplotlib is building the font cache using fc-list. This may take a moment.\n",
      "  warnings.warn('Matplotlib is building the font cache using fc-list. This may take a moment.')\n"
     ]
    }
   ],
   "source": [
    "import pandas\n",
    "import numpy as np\n",
    "import xgboost as xgb\n",
    "import matplotlib.pyplot as plt\n",
    "from sklearn.metrics import matthews_corrcoef, roc_auc_score, roc_curve, auc\n",
    "from sklearn.cross_validation import cross_val_score\n",
    "%matplotlib inline"
   ]
  },
  {
   "cell_type": "markdown",
   "metadata": {},
   "source": [
    "### Functions "
   ]
  },
  {
   "cell_type": "code",
   "execution_count": 2,
   "metadata": {
    "collapsed": true
   },
   "outputs": [],
   "source": [
    "def mcc(tp, tn, fp, fn):\n",
    "    sup = tp * tn - fp * fn\n",
    "    inf = (tp + fp) * (tp + fn) * (tn + fp) * (tn + fn)\n",
    "    if inf==0:\n",
    "        return 0\n",
    "    else:\n",
    "        return sup / np.sqrt(inf)"
   ]
  },
  {
   "cell_type": "code",
   "execution_count": 3,
   "metadata": {
    "collapsed": true
   },
   "outputs": [],
   "source": [
    "def eval_mcc(y_true, y_prob, show=False):\n",
    "    idx = np.argsort(y_prob)\n",
    "    y_true_sort = y_true[idx]\n",
    "    n = y_true.shape[0]\n",
    "    nump = 1.0 * np.sum(y_true) # number of positive\n",
    "    numn = n - nump # number of negative\n",
    "    tp = nump\n",
    "    tn = 0.0\n",
    "    fp = numn\n",
    "    fn = 0.0\n",
    "    best_mcc = 0.0\n",
    "    best_id = -1\n",
    "    prev_proba = -1\n",
    "    best_proba = -1\n",
    "    mccs = np.zeros(n)\n",
    "    for i in range(n):\n",
    "        # all items with idx < i are predicted negative while others are predicted positive\n",
    "        # only evaluate mcc when probability changes\n",
    "        proba = y_prob[idx[i]]\n",
    "        if proba != prev_proba:\n",
    "            prev_proba = proba\n",
    "            new_mcc = mcc(tp, tn, fp, fn)\n",
    "            if new_mcc >= best_mcc:\n",
    "                best_mcc = new_mcc\n",
    "                best_id = i\n",
    "                best_proba = proba\n",
    "        mccs[i] = new_mcc\n",
    "        if y_true_sort[i] == 1:\n",
    "            tp -= 1.0\n",
    "            fn += 1.0\n",
    "        else:\n",
    "            fp -= 1.0\n",
    "            tn += 1.0\n",
    "    if show:\n",
    "        y_pred = (y_prob >= best_proba).astype(int)\n",
    "        score = matthews_corrcoef(y_true, y_pred)\n",
    "        print(score, best_mcc)\n",
    "        plt.plot(mccs)\n",
    "        return best_proba, best_mcc, y_pred\n",
    "    else:\n",
    "        return best_mcc"
   ]
  },
  {
   "cell_type": "code",
   "execution_count": 4,
   "metadata": {
    "collapsed": true
   },
   "outputs": [],
   "source": [
    "def roundn(y_pred, scale):\n",
    "    return np.around(y_pred * scale) / scale"
   ]
  },
  {
   "cell_type": "code",
   "execution_count": 5,
   "metadata": {
    "collapsed": true
   },
   "outputs": [],
   "source": [
    "def mcc_eval(y_prob, dtrain):\n",
    "    y_true = dtrain.get_label()\n",
    "    best_mcc = eval_mcc(y_true, roundn(y_prob, 100))\n",
    "    return 'MCC', 1-best_mcc"
   ]
  },
  {
   "cell_type": "markdown",
   "metadata": {},
   "source": [
    "### XVal"
   ]
  },
  {
   "cell_type": "code",
   "execution_count": 6,
   "metadata": {
    "collapsed": false
   },
   "outputs": [],
   "source": [
    "dtrain = xgb.DMatrix('/home/ubuntu/data/svm-format/train_numeric_with_magic.svm')"
   ]
  },
  {
   "cell_type": "code",
   "execution_count": 7,
   "metadata": {
    "collapsed": false
   },
   "outputs": [],
   "source": [
    "y=dtrain.get_label()\n",
    "prior=y.sum()/len(y)"
   ]
  },
  {
   "cell_type": "code",
   "execution_count": 9,
   "metadata": {
    "collapsed": false
   },
   "outputs": [],
   "source": [
    "params={}\n",
    "params['bst:eta'] = 0.1\n",
    "params['bst:max_depth'] = 4\n",
    "params['min_child_weight'] = 14\n",
    "params['objective'] = 'binary:logistic'\n",
    "params['nthread'] = 4\n",
    "params['eval_metric'] = 'auc'\n",
    "params['learning_rate'] = 0.1\n",
    "params['base_score'] = prior"
   ]
  },
  {
   "cell_type": "code",
   "execution_count": 10,
   "metadata": {
    "collapsed": false
   },
   "outputs": [
    {
     "name": "stdout",
     "output_type": "stream",
     "text": [
      "[0]\ttrain-MCC:0.758444+0.00157748\ttest-MCC:0.759198+0.00468738\n",
      "[1]\ttrain-MCC:0.621643+0.00650218\ttest-MCC:0.623643+0.0144388\n",
      "[2]\ttrain-MCC:0.619114+0.00656673\ttest-MCC:0.621158+0.0147751\n",
      "[3]\ttrain-MCC:0.617601+0.00489852\ttest-MCC:0.619695+0.0159019\n",
      "[4]\ttrain-MCC:0.616613+0.00444065\ttest-MCC:0.619325+0.0165336\n",
      "[5]\ttrain-MCC:0.615013+0.0045698\ttest-MCC:0.617508+0.0152047\n",
      "[6]\ttrain-MCC:0.615255+0.00526067\ttest-MCC:0.617304+0.0156169\n",
      "[7]\ttrain-MCC:0.615283+0.00582202\ttest-MCC:0.617016+0.0157515\n",
      "[8]\ttrain-MCC:0.614695+0.00564223\ttest-MCC:0.616658+0.0158822\n",
      "[9]\ttrain-MCC:0.613321+0.00586078\ttest-MCC:0.615986+0.0155054\n",
      "[10]\ttrain-MCC:0.612771+0.0057006\ttest-MCC:0.616007+0.0159287\n",
      "[11]\ttrain-MCC:0.611811+0.00567301\ttest-MCC:0.61553+0.0155811\n",
      "[12]\ttrain-MCC:0.612015+0.00574589\ttest-MCC:0.614875+0.0160509\n",
      "[13]\ttrain-MCC:0.611772+0.00554681\ttest-MCC:0.615069+0.0162243\n",
      "[14]\ttrain-MCC:0.611376+0.00592747\ttest-MCC:0.615005+0.0163952\n",
      "[15]\ttrain-MCC:0.611317+0.0056701\ttest-MCC:0.614905+0.0169233\n",
      "[16]\ttrain-MCC:0.61092+0.00542773\ttest-MCC:0.614451+0.0170807\n",
      "[17]\ttrain-MCC:0.610995+0.00531855\ttest-MCC:0.614751+0.0172963\n",
      "[18]\ttrain-MCC:0.610745+0.00526045\ttest-MCC:0.614467+0.0175068\n",
      "[19]\ttrain-MCC:0.61043+0.00573755\ttest-MCC:0.614398+0.0173967\n",
      "[20]\ttrain-MCC:0.610517+0.00561984\ttest-MCC:0.614338+0.0169917\n",
      "[21]\ttrain-MCC:0.609954+0.00553017\ttest-MCC:0.613674+0.0164432\n",
      "[22]\ttrain-MCC:0.609752+0.0054686\ttest-MCC:0.613594+0.0162801\n",
      "[23]\ttrain-MCC:0.610225+0.00551018\ttest-MCC:0.613371+0.016793\n",
      "[24]\ttrain-MCC:0.609876+0.00563717\ttest-MCC:0.613394+0.0164489\n",
      "[25]\ttrain-MCC:0.609456+0.00565306\ttest-MCC:0.613086+0.016608\n",
      "[26]\ttrain-MCC:0.609191+0.00550978\ttest-MCC:0.613613+0.0162268\n",
      "[27]\ttrain-MCC:0.609112+0.00579588\ttest-MCC:0.613074+0.016463\n",
      "[28]\ttrain-MCC:0.6092+0.00602252\ttest-MCC:0.613307+0.0166486\n",
      "[29]\ttrain-MCC:0.608725+0.00559642\ttest-MCC:0.613257+0.0165875\n",
      "[30]\ttrain-MCC:0.608375+0.00562277\ttest-MCC:0.612871+0.0163434\n",
      "[31]\ttrain-MCC:0.608034+0.00553626\ttest-MCC:0.612973+0.0163063\n",
      "[32]\ttrain-MCC:0.607466+0.00518382\ttest-MCC:0.61162+0.0176301\n",
      "[33]\ttrain-MCC:0.607708+0.00531008\ttest-MCC:0.611618+0.0177176\n",
      "[34]\ttrain-MCC:0.607489+0.00540525\ttest-MCC:0.611796+0.0174864\n",
      "[35]\ttrain-MCC:0.607187+0.00531717\ttest-MCC:0.61135+0.0174588\n",
      "[36]\ttrain-MCC:0.606928+0.00512963\ttest-MCC:0.611368+0.0174818\n",
      "[37]\ttrain-MCC:0.60698+0.00514605\ttest-MCC:0.611559+0.0174834\n",
      "[38]\ttrain-MCC:0.606922+0.00510788\ttest-MCC:0.611706+0.0176892\n",
      "[39]\ttrain-MCC:0.606655+0.00505664\ttest-MCC:0.611641+0.0173007\n",
      "    test-MCC-mean  test-MCC-std  train-MCC-mean  train-MCC-std\n",
      "0        0.759198      0.004687        0.758444       0.001577\n",
      "1        0.623643      0.014439        0.621643       0.006502\n",
      "2        0.621158      0.014775        0.619114       0.006567\n",
      "3        0.619695      0.015902        0.617601       0.004899\n",
      "4        0.619325      0.016534        0.616613       0.004441\n",
      "5        0.617508      0.015205        0.615013       0.004570\n",
      "6        0.617304      0.015617        0.615255       0.005261\n",
      "7        0.617016      0.015751        0.615283       0.005822\n",
      "8        0.616658      0.015882        0.614695       0.005642\n",
      "9        0.615986      0.015505        0.613321       0.005861\n",
      "10       0.616007      0.015929        0.612771       0.005701\n",
      "11       0.615530      0.015581        0.611811       0.005673\n",
      "12       0.614875      0.016051        0.612015       0.005746\n",
      "13       0.615069      0.016224        0.611772       0.005547\n",
      "14       0.615005      0.016395        0.611376       0.005927\n",
      "15       0.614905      0.016923        0.611317       0.005670\n",
      "16       0.614451      0.017081        0.610920       0.005428\n",
      "17       0.614751      0.017296        0.610995       0.005319\n",
      "18       0.614467      0.017507        0.610745       0.005260\n",
      "19       0.614398      0.017397        0.610430       0.005738\n",
      "20       0.614338      0.016992        0.610517       0.005620\n",
      "21       0.613674      0.016443        0.609954       0.005530\n",
      "22       0.613594      0.016280        0.609752       0.005469\n",
      "23       0.613371      0.016793        0.610225       0.005510\n",
      "24       0.613394      0.016449        0.609876       0.005637\n",
      "25       0.613086      0.016608        0.609456       0.005653\n",
      "26       0.613613      0.016227        0.609191       0.005510\n",
      "27       0.613074      0.016463        0.609112       0.005796\n",
      "28       0.613307      0.016649        0.609200       0.006023\n",
      "29       0.613257      0.016587        0.608725       0.005596\n",
      "30       0.612871      0.016343        0.608375       0.005623\n",
      "31       0.612973      0.016306        0.608034       0.005536\n",
      "32       0.611620      0.017630        0.607466       0.005184\n",
      "33       0.611618      0.017718        0.607708       0.005310\n",
      "34       0.611796      0.017486        0.607489       0.005405\n",
      "35       0.611350      0.017459        0.607187       0.005317\n",
      "36       0.611368      0.017482        0.606928       0.005130\n",
      "37       0.611559      0.017483        0.606980       0.005146\n",
      "38       0.611706      0.017689        0.606922       0.005108\n",
      "39       0.611641      0.017301        0.606655       0.005057\n"
     ]
    }
   ],
   "source": [
    "res = xgb.cv(params, dtrain, num_boost_round=40, feval=mcc_eval, verbose_eval=True, nfold=4, seed=0, early_stopping_rounds=10, show_stdv=True)\n",
    "print(repr(res))"
   ]
  },
  {
   "cell_type": "code",
   "execution_count": null,
   "metadata": {
    "collapsed": false
   },
   "outputs": [],
   "source": [
    "with open('log.txt', 'w') as file:\n",
    "    for max_depth in range(2,5):\n",
    "        for learning_rate in [0.1, 0.5, 1]:\n",
    "            for min_child_weight in [14, 16, 18]:\n",
    "                params['bst:max_depth'] = max_depth\n",
    "                params['min_child_weight'] = min_child_weight\n",
    "                params['learning_rate'] = learning_rate\n",
    "                res = xgb.cv(params, dtrain, num_boost_round=40, feval=mcc_eval, verbose_eval=True, nfold=4, seed=0, early_stopping_rounds=10, show_stdv=True)\n",
    "                print(repr(res))\n",
    "                file.write(repr(res))"
   ]
  },
  {
   "cell_type": "markdown",
   "metadata": {},
   "source": [
    "### Validation"
   ]
  },
  {
   "cell_type": "code",
   "execution_count": 11,
   "metadata": {
    "collapsed": false
   },
   "outputs": [],
   "source": [
    "dtrain_val = xgb.DMatrix('/home/ubuntu/data/svm-format/xaa')\n",
    "dval = xgb.DMatrix('/home/ubuntu/data/svm-format/xab')"
   ]
  },
  {
   "cell_type": "code",
   "execution_count": 12,
   "metadata": {
    "collapsed": false,
    "scrolled": false
   },
   "outputs": [
    {
     "name": "stdout",
     "output_type": "stream",
     "text": [
      "[0]\teval-MCC:0.795924\n",
      "[1]\teval-MCC:0.673543\n",
      "[2]\teval-MCC:0.6308\n",
      "[3]\teval-MCC:0.627138\n",
      "[4]\teval-MCC:0.620872\n",
      "[5]\teval-MCC:0.620781\n",
      "[6]\teval-MCC:0.619825\n",
      "[7]\teval-MCC:0.619166\n",
      "[8]\teval-MCC:0.619255\n",
      "[9]\teval-MCC:0.618439\n",
      "[10]\teval-MCC:0.618848\n",
      "[11]\teval-MCC:0.618029\n",
      "[12]\teval-MCC:0.617618\n",
      "[13]\teval-MCC:0.617712\n",
      "[14]\teval-MCC:0.617117\n",
      "[15]\teval-MCC:0.616547\n",
      "[16]\teval-MCC:0.616737\n",
      "[17]\teval-MCC:0.61658\n",
      "[18]\teval-MCC:0.61658\n",
      "[19]\teval-MCC:0.616484\n",
      "[20]\teval-MCC:0.617229\n",
      "[21]\teval-MCC:0.616894\n",
      "[22]\teval-MCC:0.616328\n",
      "[23]\teval-MCC:0.616328\n",
      "[24]\teval-MCC:0.616154\n",
      "[25]\teval-MCC:0.616154\n",
      "[26]\teval-MCC:0.615458\n",
      "[27]\teval-MCC:0.615458\n",
      "[28]\teval-MCC:0.615952\n",
      "[29]\teval-MCC:0.615645\n",
      "[30]\teval-MCC:0.615332\n",
      "[31]\teval-MCC:0.61441\n",
      "[32]\teval-MCC:0.614262\n",
      "[33]\teval-MCC:0.614113\n",
      "[34]\teval-MCC:0.61441\n",
      "[35]\teval-MCC:0.614245\n",
      "[36]\teval-MCC:0.614351\n",
      "[37]\teval-MCC:0.614546\n",
      "[38]\teval-MCC:0.613872\n",
      "[39]\teval-MCC:0.614279\n"
     ]
    }
   ],
   "source": [
    "num_round = 40\n",
    "evallist  = [(dval,'eval')]\n",
    "bst = xgb.train( params, dtrain_val, num_round, evallist, feval=mcc_eval)"
   ]
  },
  {
   "cell_type": "code",
   "execution_count": 13,
   "metadata": {
    "collapsed": false,
    "scrolled": false
   },
   "outputs": [
    {
     "name": "stdout",
     "output_type": "stream",
     "text": [
      "0.385720787236 0.385720787236\n"
     ]
    },
    {
     "data": {
      "image/png": "[encoded data removed]",
      "text/plain": [
       "<matplotlib.figure.Figure at 0x7f657a2134a8>"
      ]
     },
     "metadata": {},
     "output_type": "display_data"
    }
   ],
   "source": [
    "best_proba_val, best_mcc_val, y_pred_val = eval_mcc(dval.get_label(), roundn(bst.predict(dval), 100), show=True)"
   ]
  },
  {
   "cell_type": "markdown",
   "metadata": {},
   "source": [
    "Feature importance"
   ]
  },
  {
   "cell_type": "code",
   "execution_count": 14,
   "metadata": {
    "collapsed": false
   },
   "outputs": [
    {
     "data": {
      "text/plain": [
       "<matplotlib.text.Text at 0x7f656c1dea58>"
      ]
     },
     "execution_count": 14,
     "metadata": {},
     "output_type": "execute_result"
    },
    {
     "data": {
      "text/plain": [
       "<matplotlib.figure.Figure at 0x7f656c2c6f98>"
      ]
     },
     "metadata": {},
     "output_type": "display_data"
    },
    {
     "data": {
      "image/png": "[encoded data removed]",
      "text/plain": [
       "<matplotlib.figure.Figure at 0x7f656c2c7828>"
      ]
     },
     "metadata": {},
     "output_type": "display_data"
    },
    {
     "data": {
      "image/png": "[encoded data removed]",
      "text/plain": [
       "<matplotlib.figure.Figure at 0x7f656c2c77b8>"
      ]
     },
     "metadata": {},
     "output_type": "display_data"
    }
   ],
   "source": [
    "import operator\n",
    "\n",
    "importance = bst.get_fscore()\n",
    "importance = sorted(importance.items(), key=operator.itemgetter(1))\n",
    "\n",
    "df = pandas.DataFrame(importance, columns=['feature', 'fscore'])\n",
    "df['fscore'] = df['fscore'] / df['fscore'].sum()\n",
    "\n",
    "plt.figure()\n",
    "df.plot()\n",
    "df.plot(kind='barh', x='feature', y='fscore', legend=False, figsize=(6, 10))\n",
    "plt.title('XGBoost Feature Importance')\n",
    "plt.xlabel('relative importance')"
   ]
  },
  {
   "cell_type": "markdown",
   "metadata": {},
   "source": [
    "Check ratio of positive in predictions"
   ]
  },
  {
   "cell_type": "code",
   "execution_count": 15,
   "metadata": {
    "collapsed": false
   },
   "outputs": [
    {
     "data": {
      "text/plain": [
       "0.0012039182065266959"
      ]
     },
     "execution_count": 15,
     "metadata": {},
     "output_type": "execute_result"
    }
   ],
   "source": [
    "y_pred_val.sum()/y_pred_val.size"
   ]
  },
  {
   "cell_type": "markdown",
   "metadata": {},
   "source": [
    "Check ration of positive in true labels"
   ]
  },
  {
   "cell_type": "code",
   "execution_count": 16,
   "metadata": {
    "collapsed": false
   },
   "outputs": [
    {
     "data": {
      "text/plain": [
       "0.0058163321146484535"
      ]
     },
     "execution_count": 16,
     "metadata": {},
     "output_type": "execute_result"
    }
   ],
   "source": [
    "label=dval.get_label()\n",
    "label.sum()/label.size"
   ]
  },
  {
   "cell_type": "code",
   "execution_count": 17,
   "metadata": {
    "collapsed": false
   },
   "outputs": [
    {
     "data": {
      "text/plain": [
       "0.49000001"
      ]
     },
     "execution_count": 17,
     "metadata": {},
     "output_type": "execute_result"
    }
   ],
   "source": [
    "best_proba_val"
   ]
  },
  {
   "cell_type": "markdown",
   "metadata": {},
   "source": [
    "### Test"
   ]
  },
  {
   "cell_type": "code",
   "execution_count": 18,
   "metadata": {
    "collapsed": true
   },
   "outputs": [],
   "source": [
    "num_round=40\n",
    "bst = xgb.train( params, dtrain, num_round)"
   ]
  },
  {
   "cell_type": "code",
   "execution_count": 19,
   "metadata": {
    "collapsed": false
   },
   "outputs": [],
   "source": [
    "dtest = xgb.DMatrix('/home/ubuntu/data/svm-format/test_numeric_with_magic.svm')"
   ]
  },
  {
   "cell_type": "code",
   "execution_count": 20,
   "metadata": {
    "collapsed": true
   },
   "outputs": [],
   "source": [
    "y_pred_test=roundn(bst.predict(dtest), 100)"
   ]
  },
  {
   "cell_type": "code",
   "execution_count": 21,
   "metadata": {
    "collapsed": true
   },
   "outputs": [],
   "source": [
    "results=(y_pred_test >= best_proba_val).astype(int)"
   ]
  },
  {
   "cell_type": "code",
   "execution_count": 22,
   "metadata": {
    "collapsed": false
   },
   "outputs": [
    {
     "data": {
      "text/plain": [
       "0.0013178480554982986"
      ]
     },
     "execution_count": 22,
     "metadata": {},
     "output_type": "execute_result"
    }
   ],
   "source": [
    "results.sum()/results.size"
   ]
  },
  {
   "cell_type": "code",
   "execution_count": 23,
   "metadata": {
    "collapsed": true
   },
   "outputs": [],
   "source": [
    "IDs=pandas.read_csv('/home/ubuntu/Ids.txt')"
   ]
  },
  {
   "cell_type": "code",
   "execution_count": 24,
   "metadata": {
    "collapsed": false
   },
   "outputs": [],
   "source": [
    "IDs['Response']=results"
   ]
  },
  {
   "cell_type": "code",
   "execution_count": 25,
   "metadata": {
    "collapsed": false
   },
   "outputs": [
    {
     "data": {
      "text/html": [
       "<div>\n",
       "<table border=\"1\" class=\"dataframe\">\n",
       "  <thead>\n",
       "    <tr style=\"text-align: right;\">\n",
       "      <th></th>\n",
       "      <th>Id</th>\n",
       "      <th>Response</th>\n",
       "    </tr>\n",
       "  </thead>\n",
       "  <tbody>\n",
       "    <tr>\n",
       "      <th>0</th>\n",
       "      <td>1</td>\n",
       "      <td>0</td>\n",
       "    </tr>\n",
       "    <tr>\n",
       "      <th>1</th>\n",
       "      <td>2</td>\n",
       "      <td>0</td>\n",
       "    </tr>\n",
       "    <tr>\n",
       "      <th>2</th>\n",
       "      <td>3</td>\n",
       "      <td>0</td>\n",
       "    </tr>\n",
       "    <tr>\n",
       "      <th>3</th>\n",
       "      <td>5</td>\n",
       "      <td>0</td>\n",
       "    </tr>\n",
       "    <tr>\n",
       "      <th>4</th>\n",
       "      <td>8</td>\n",
       "      <td>0</td>\n",
       "    </tr>\n",
       "  </tbody>\n",
       "</table>\n",
       "</div>"
      ],
      "text/plain": [
       "   Id  Response\n",
       "0   1         0\n",
       "1   2         0\n",
       "2   3         0\n",
       "3   5         0\n",
       "4   8         0"
      ]
     },
     "execution_count": 25,
     "metadata": {},
     "output_type": "execute_result"
    }
   ],
   "source": [
    "IDs.head()"
   ]
  },
  {
   "cell_type": "code",
   "execution_count": 26,
   "metadata": {
    "collapsed": false
   },
   "outputs": [],
   "source": [
    "IDs.to_csv('results.csv', index=False)"
   ]
  },
  {
   "cell_type": "code",
   "execution_count": null,
   "metadata": {
    "collapsed": true
   },
   "outputs": [],
   "source": []
  }
 ],
 "metadata": {
  "anaconda-cloud": {},
  "kernelspec": {
   "display_name": "Python [conda root]",
   "language": "python",
   "name": "conda-root-py"
  },
  "language_info": {
   "codemirror_mode": {
    "name": "ipython",
    "version": 3
   },
   "file_extension": ".py",
   "mimetype": "text/x-python",
   "name": "python",
   "nbconvert_exporter": "python",
   "pygments_lexer": "ipython3",
   "version": "3.5.2"
  }
 },
 "nbformat": 4,
 "nbformat_minor": 0
}
