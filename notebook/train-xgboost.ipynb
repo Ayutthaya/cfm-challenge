{
 "cells": [
  {
   "cell_type": "code",
   "execution_count": 1,
   "metadata": {
    "collapsed": false
   },
   "outputs": [
    {
     "name": "stderr",
     "output_type": "stream",
     "text": [
      "/home/ubuntu/anaconda3/lib/python3.5/site-packages/matplotlib/font_manager.py:273: UserWarning: Matplotlib is building the font cache using fc-list. This may take a moment.\n",
      "  warnings.warn('Matplotlib is building the font cache using fc-list. This may take a moment.')\n",
      "/home/ubuntu/anaconda3/lib/python3.5/site-packages/matplotlib/font_manager.py:273: UserWarning: Matplotlib is building the font cache using fc-list. This may take a moment.\n",
      "  warnings.warn('Matplotlib is building the font cache using fc-list. This may take a moment.')\n"
     ]
    },
    {
     "name": "stdout",
     "output_type": "stream",
     "text": [
      "Populating the interactive namespace from numpy and matplotlib\n"
     ]
    }
   ],
   "source": [
    "%pylab inline\n",
    "import pandas"
   ]
  },
  {
   "cell_type": "code",
   "execution_count": 156,
   "metadata": {
    "collapsed": true
   },
   "outputs": [],
   "source": [
    "TRAINFILE='/home/ubuntu/data/training_input.csv'\n",
    "LABELFILE='/home/ubuntu/data/challenge_output_data_training_file_prediction_of_trading_activity_within_the_order_book.csv'\n",
    "CHUNKSIZE=8\n",
    "NCHUNKS=10\n",
    "LASTROW=7\n",
    "DAY=4679\n",
    "USEFEATURES = ['ID', 'bid_1', 'ask_1', 'bid_size_1', 'ask_size_1', 'nb_trade', 'bid_entropy_1', 'ask_entropy_1', 'bid_size_2', 'ask_size_2']\n",
    "NEWFEATURES = ['bid_1', 'spread', 'bid_plus_ask', 'bid_pct', 'nb_trade']+['bid_size_2', 'ask_size_2']\n",
    "TRAINPICKLE='train.pkl'"
   ]
  },
  {
   "cell_type": "code",
   "execution_count": 157,
   "metadata": {
    "collapsed": false
   },
   "outputs": [],
   "source": [
    "train_all = pandas.read_csv(TRAINFILE, usecols=USEFEATURES)"
   ]
  },
  {
   "cell_type": "code",
   "execution_count": 158,
   "metadata": {
    "collapsed": true
   },
   "outputs": [],
   "source": [
    "train_all['spread'] = train_all['ask_1']-train_all['bid_1']\n",
    "train_all['bid_plus_ask'] = train_all['bid_size_1']-train_all['ask_size_1']\n",
    "train_all['bid_pct'] = train_all['bid_size_1']/train_all['bid_plus_ask']"
   ]
  },
  {
   "cell_type": "code",
   "execution_count": 159,
   "metadata": {
    "collapsed": false
   },
   "outputs": [],
   "source": [
    "train_diff = train_all[NEWFEATURES].diff()"
   ]
  },
  {
   "cell_type": "code",
   "execution_count": 160,
   "metadata": {
    "collapsed": false,
    "scrolled": true
   },
   "outputs": [],
   "source": [
    "past_diff_feat = np.hstack([train_diff.iloc[i::8, :].values for i in range(1,8)])"
   ]
  },
  {
   "cell_type": "code",
   "execution_count": 175,
   "metadata": {
    "collapsed": false
   },
   "outputs": [],
   "source": [
    "fut_diff_feat = np.hstack([train_diff.iloc[i+7::8, :].values for i in range(1,8)])\n",
    "# fix end\n",
    "fut_diff_feat = np.r_[fut_diff_feat, np.zeros((1, fut_diff_feat.shape[1]))]"
   ]
  },
  {
   "cell_type": "code",
   "execution_count": 176,
   "metadata": {
    "collapsed": false
   },
   "outputs": [],
   "source": [
    "pres_orig_feat = train_all.iloc[7::8][NEWFEATURES].values"
   ]
  },
  {
   "cell_type": "code",
   "execution_count": 177,
   "metadata": {
    "collapsed": false
   },
   "outputs": [],
   "source": [
    "past_orig_feat = np.hstack([train_all.iloc[i::8, 1:8].values for i in range(8)])"
   ]
  },
  {
   "cell_type": "code",
   "execution_count": 178,
   "metadata": {
    "collapsed": false
   },
   "outputs": [],
   "source": [
    "time_feat = (train_all.iloc[7::8, 0].values-1)%DAY"
   ]
  },
  {
   "cell_type": "code",
   "execution_count": 179,
   "metadata": {
    "collapsed": false
   },
   "outputs": [],
   "source": [
    "entropy_feat = train_all.iloc[7::8, -2:]"
   ]
  },
  {
   "cell_type": "code",
   "execution_count": 180,
   "metadata": {
    "collapsed": false
   },
   "outputs": [],
   "source": [
    "#train=np.c_[past_diff_feat, pres_orig_feat, time_feat]\n",
    "#train=np.c_[pres_orig_feat, time_feat]\n",
    "#train=pres_orig_feat\n",
    "train=np.c_[past_diff_feat, fut_diff_feat, pres_orig_feat, time_feat]"
   ]
  },
  {
   "cell_type": "code",
   "execution_count": 181,
   "metadata": {
    "collapsed": false
   },
   "outputs": [],
   "source": [
    "np.save(TRAINPICKLE, train, allow_pickle=True)"
   ]
  },
  {
   "cell_type": "code",
   "execution_count": 182,
   "metadata": {
    "collapsed": true
   },
   "outputs": [],
   "source": [
    "label = pandas.read_csv(LABELFILE, sep=';')['TARGET'].values"
   ]
  },
  {
   "cell_type": "code",
   "execution_count": 183,
   "metadata": {
    "collapsed": true
   },
   "outputs": [],
   "source": [
    "import xgboost as xgb"
   ]
  },
  {
   "cell_type": "code",
   "execution_count": 185,
   "metadata": {
    "collapsed": false
   },
   "outputs": [
    {
     "name": "stdout",
     "output_type": "stream",
     "text": [
      "[0]\ttrain-error:0.338193+0.000161631\ttest-error:0.338193+0.000485133\n",
      "[1]\ttrain-error:0.338193+0.000161631\ttest-error:0.338193+0.000485133\n",
      "[2]\ttrain-error:0.337298+0.000207679\ttest-error:0.337377+0.000646512\n",
      "[3]\ttrain-error:0.331752+0.000398358\ttest-error:0.331793+0.000599183\n",
      "[4]\ttrain-error:0.326623+0.000365246\ttest-error:0.327093+9.06725e-05\n",
      "[5]\ttrain-error:0.320452+0.000321476\ttest-error:0.320962+0.00059469\n",
      "[6]\ttrain-error:0.313783+0.000368305\ttest-error:0.314622+0.0010655\n",
      "[7]\ttrain-error:0.307842+0.000422803\ttest-error:0.309049+0.00055372\n",
      "[8]\ttrain-error:0.302484+0.000659994\ttest-error:0.303938+0.000684276\n",
      "[9]\ttrain-error:0.298766+0.000286069\ttest-error:0.300253+0.000606538\n",
      "[10]\ttrain-error:0.296259+0.000191385\ttest-error:0.297639+0.000709502\n",
      "[11]\ttrain-error:0.294462+0.00030653\ttest-error:0.295796+0.000618134\n",
      "[12]\ttrain-error:0.293124+0.00033066\ttest-error:0.294533+0.0006846\n",
      "[13]\ttrain-error:0.291791+0.00043421\ttest-error:0.293543+0.000556602\n",
      "[14]\ttrain-error:0.290921+0.000223608\ttest-error:0.292826+0.000510357\n",
      "[15]\ttrain-error:0.290132+0.000134954\ttest-error:0.292059+0.000495294\n",
      "[16]\ttrain-error:0.289545+0.000189249\ttest-error:0.291472+0.000269632\n",
      "[17]\ttrain-error:0.288894+0.000286184\ttest-error:0.290902+0.000365358\n",
      "[18]\ttrain-error:0.288401+0.000144119\ttest-error:0.290406+0.000394332\n",
      "[19]\ttrain-error:0.287894+0.000210489\ttest-error:0.290149+0.00041467\n",
      "[20]\ttrain-error:0.287392+0.000184993\ttest-error:0.289716+0.000365715\n",
      "[21]\ttrain-error:0.286872+0.000125965\ttest-error:0.289313+0.000367332\n",
      "[22]\ttrain-error:0.286337+7.27358e-05\ttest-error:0.288965+0.000394215\n",
      "[23]\ttrain-error:0.285976+0.000140651\ttest-error:0.288778+0.000222451\n",
      "[24]\ttrain-error:0.285556+0.0001123\ttest-error:0.288388+0.000253662\n",
      "[25]\ttrain-error:0.28514+0.000117934\ttest-error:0.28824+0.000204789\n",
      "[26]\ttrain-error:0.284747+0.000111073\ttest-error:0.288037+0.000214052\n",
      "[27]\ttrain-error:0.284417+0.000148101\ttest-error:0.287957+0.000234058\n",
      "[28]\ttrain-error:0.284059+0.000123979\ttest-error:0.287704+0.000325885\n",
      "[29]\ttrain-error:0.283769+0.000142747\ttest-error:0.287491+0.000351293\n",
      "[30]\ttrain-error:0.283513+0.000142682\ttest-error:0.287266+0.000315531\n",
      "[31]\ttrain-error:0.283229+0.000145813\ttest-error:0.287232+0.000310397\n",
      "[32]\ttrain-error:0.283012+9.27776e-05\ttest-error:0.287017+0.000360019\n",
      "[33]\ttrain-error:0.282798+5.38934e-05\ttest-error:0.286941+0.000418278\n",
      "[34]\ttrain-error:0.282628+8.97928e-05\ttest-error:0.286905+0.000434486\n",
      "[35]\ttrain-error:0.282429+9.95314e-05\ttest-error:0.286753+0.000414273\n",
      "[36]\ttrain-error:0.282243+0.000136335\ttest-error:0.28669+0.000481797\n",
      "[37]\ttrain-error:0.281981+0.000133819\ttest-error:0.286585+0.000492672\n",
      "[38]\ttrain-error:0.281806+0.000178914\ttest-error:0.286418+0.000466191\n",
      "[39]\ttrain-error:0.28162+0.000139886\ttest-error:0.286238+0.000457369\n",
      "[40]\ttrain-error:0.281364+0.00027483\ttest-error:0.286019+0.000390043\n",
      "[41]\ttrain-error:0.28118+0.000287013\ttest-error:0.285984+0.000436576\n",
      "[42]\ttrain-error:0.280953+0.000153654\ttest-error:0.285835+0.000468507\n",
      "[43]\ttrain-error:0.280803+0.000180472\ttest-error:0.285716+0.000496038\n",
      "[44]\ttrain-error:0.280591+0.000226028\ttest-error:0.285521+0.000575197\n",
      "[45]\ttrain-error:0.280485+0.000223404\ttest-error:0.285471+0.000561903\n",
      "[46]\ttrain-error:0.280326+0.000176873\ttest-error:0.28545+0.000505151\n",
      "[47]\ttrain-error:0.280045+0.000146334\ttest-error:0.285188+0.000512551\n",
      "[48]\ttrain-error:0.279874+0.000175991\ttest-error:0.285125+0.000421985\n",
      "[49]\ttrain-error:0.279749+0.00020058\ttest-error:0.285047+0.000457839\n",
      "[50]\ttrain-error:0.279572+0.000184045\ttest-error:0.284892+0.00038761\n",
      "[51]\ttrain-error:0.279311+0.000255692\ttest-error:0.284826+0.000383443\n",
      "[52]\ttrain-error:0.279196+0.000230867\ttest-error:0.284701+0.000476541\n",
      "[53]\ttrain-error:0.278957+0.000282231\ttest-error:0.284605+0.000602804\n",
      "[54]\ttrain-error:0.278751+0.000189769\ttest-error:0.28466+0.000501803\n",
      "[55]\ttrain-error:0.278544+0.000142324\ttest-error:0.284556+0.000458662\n",
      "[56]\ttrain-error:0.278388+9.54892e-05\ttest-error:0.284563+0.000408872\n",
      "[57]\ttrain-error:0.278263+9.44467e-05\ttest-error:0.284507+0.000360622\n",
      "[58]\ttrain-error:0.278132+0.000110321\ttest-error:0.284352+0.000379118\n",
      "[59]\ttrain-error:0.277927+9.16471e-05\ttest-error:0.284182+0.000363102\n",
      "[60]\ttrain-error:0.277767+0.000117247\ttest-error:0.284034+0.000385979\n",
      "[61]\ttrain-error:0.277623+0.000129658\ttest-error:0.28394+0.00041619\n",
      "[62]\ttrain-error:0.277469+9.27615e-05\ttest-error:0.283863+0.000310174\n",
      "[63]\ttrain-error:0.277351+0.000148589\ttest-error:0.283791+0.000349776\n",
      "[64]\ttrain-error:0.277227+0.000168739\ttest-error:0.283834+0.000375128\n",
      "[65]\ttrain-error:0.277091+7.69558e-05\ttest-error:0.283763+0.000362487\n",
      "[66]\ttrain-error:0.276992+8.15153e-05\ttest-error:0.283691+0.000285155\n",
      "[67]\ttrain-error:0.276864+7.88238e-05\ttest-error:0.283634+0.000324372\n",
      "[68]\ttrain-error:0.276769+9.69984e-05\ttest-error:0.283564+0.000358649\n",
      "[69]\ttrain-error:0.276593+7.09401e-05\ttest-error:0.283668+0.000374543\n",
      "[70]\ttrain-error:0.276436+5.65e-05\ttest-error:0.283605+0.000381977\n",
      "[71]\ttrain-error:0.27631+0.000104227\ttest-error:0.283545+0.000318593\n",
      "[72]\ttrain-error:0.276224+0.000113409\ttest-error:0.283487+0.000309588\n",
      "[73]\ttrain-error:0.276108+0.000139431\ttest-error:0.283411+0.000163772\n",
      "[74]\ttrain-error:0.276052+0.000141805\ttest-error:0.283397+0.000218419\n",
      "[75]\ttrain-error:0.27592+0.000164545\ttest-error:0.283296+0.00016645\n",
      "[76]\ttrain-error:0.275834+0.000216717\ttest-error:0.283248+0.000215809\n",
      "[77]\ttrain-error:0.275676+0.000223143\ttest-error:0.283222+0.000138659\n",
      "[78]\ttrain-error:0.275533+0.000174658\ttest-error:0.283187+0.000125862\n",
      "[79]\ttrain-error:0.275454+0.000174845\ttest-error:0.283213+0.000120159\n",
      "[80]\ttrain-error:0.275339+0.000159227\ttest-error:0.283199+0.000224442\n",
      "[81]\ttrain-error:0.275182+0.000235718\ttest-error:0.283136+0.000132501\n",
      "[82]\ttrain-error:0.275075+0.000190086\ttest-error:0.28307+0.000131205\n",
      "[83]\ttrain-error:0.274953+0.000201322\ttest-error:0.283002+6.56368e-05\n",
      "[84]\ttrain-error:0.274812+0.000225278\ttest-error:0.28297+4.22641e-05\n",
      "[85]\ttrain-error:0.274773+0.000214619\ttest-error:0.282968+0.000108799\n",
      "[86]\ttrain-error:0.274689+0.000262491\ttest-error:0.28292+0.00018118\n",
      "[87]\ttrain-error:0.274635+0.000224634\ttest-error:0.282896+0.000150561\n",
      "[88]\ttrain-error:0.274544+0.000273461\ttest-error:0.282899+0.000116053\n",
      "[89]\ttrain-error:0.274415+0.000276372\ttest-error:0.28284+0.000103171\n",
      "[90]\ttrain-error:0.274293+0.00030922\ttest-error:0.282842+9.81717e-05\n",
      "[91]\ttrain-error:0.274205+0.000292333\ttest-error:0.282799+0.000155803\n",
      "[92]\ttrain-error:0.274097+0.000245643\ttest-error:0.282874+0.000157707\n",
      "[93]\ttrain-error:0.273984+0.000183572\ttest-error:0.282835+0.000174673\n",
      "[94]\ttrain-error:0.273903+0.000170413\ttest-error:0.282756+0.000200541\n",
      "[95]\ttrain-error:0.27376+0.00020985\ttest-error:0.282731+0.000212769\n",
      "[96]\ttrain-error:0.273677+0.000232271\ttest-error:0.282697+0.000242088\n",
      "[97]\ttrain-error:0.273605+0.000227178\ttest-error:0.282692+0.000240794\n",
      "[98]\ttrain-error:0.27352+0.000230866\ttest-error:0.282641+0.000227728\n",
      "[99]\ttrain-error:0.273438+0.000257576\ttest-error:0.282687+0.000217218\n",
      "[100]\ttrain-error:0.273364+0.000285335\ttest-error:0.282682+0.00019792\n",
      "[101]\ttrain-error:0.273272+0.00030031\ttest-error:0.282549+0.000180717\n",
      "[102]\ttrain-error:0.273161+0.00026544\ttest-error:0.282573+0.000284967\n",
      "[103]\ttrain-error:0.273075+0.000262386\ttest-error:0.282574+0.000303282\n",
      "[104]\ttrain-error:0.272997+0.000250566\ttest-error:0.282489+0.000271183\n",
      "[105]\ttrain-error:0.272922+0.000219326\ttest-error:0.282528+0.000245728\n",
      "[106]\ttrain-error:0.272836+0.000214819\ttest-error:0.282498+0.000261939\n",
      "[107]\ttrain-error:0.272805+0.000229367\ttest-error:0.282462+0.000240505\n",
      "[108]\ttrain-error:0.272729+0.000249075\ttest-error:0.282488+0.000237874\n",
      "[109]\ttrain-error:0.272617+0.000204258\ttest-error:0.282431+0.000217296\n",
      "[110]\ttrain-error:0.272504+0.000242999\ttest-error:0.282455+0.000234772\n",
      "[111]\ttrain-error:0.272486+0.000258776\ttest-error:0.282457+0.000268454\n",
      "[112]\ttrain-error:0.272439+0.000268242\ttest-error:0.282442+0.00022931\n",
      "[113]\ttrain-error:0.272351+0.000212087\ttest-error:0.282416+0.000156893\n",
      "[114]\ttrain-error:0.272269+0.00022133\ttest-error:0.28239+0.000157146\n",
      "[115]\ttrain-error:0.27218+0.000242855\ttest-error:0.282467+0.0002202\n",
      "[116]\ttrain-error:0.272123+0.000242813\ttest-error:0.282475+0.000188521\n",
      "[117]\ttrain-error:0.272085+0.00028289\ttest-error:0.282472+0.000138016\n",
      "[118]\ttrain-error:0.27202+0.00024871\ttest-error:0.282404+0.000178274\n",
      "[119]\ttrain-error:0.271936+0.000245449\ttest-error:0.282411+0.000189057\n",
      "[120]\ttrain-error:0.27188+0.000236216\ttest-error:0.282397+0.000278818\n",
      "[121]\ttrain-error:0.271822+0.00019629\ttest-error:0.282323+0.000238921\n",
      "[122]\ttrain-error:0.27174+0.000190198\ttest-error:0.282317+0.000234146\n",
      "[123]\ttrain-error:0.271659+0.000166653\ttest-error:0.282344+0.000242603\n",
      "[124]\ttrain-error:0.271603+0.000162658\ttest-error:0.282342+0.000241786\n",
      "[125]\ttrain-error:0.27152+0.00016835\ttest-error:0.282273+0.00020301\n",
      "[126]\ttrain-error:0.271459+0.000147606\ttest-error:0.282305+0.000238934\n",
      "[127]\ttrain-error:0.271377+0.000135688\ttest-error:0.282348+0.00022145\n",
      "[128]\ttrain-error:0.271317+0.000150146\ttest-error:0.282299+0.0002623\n",
      "[129]\ttrain-error:0.271266+0.000118828\ttest-error:0.28236+0.000291086\n",
      "[130]\ttrain-error:0.271239+0.000111829\ttest-error:0.282375+0.000314721\n",
      "[131]\ttrain-error:0.271168+0.000114642\ttest-error:0.282354+0.000274011\n",
      "[132]\ttrain-error:0.271129+0.000131724\ttest-error:0.282361+0.000258918\n",
      "[133]\ttrain-error:0.271027+0.000152438\ttest-error:0.282336+0.000192614\n",
      "[134]\ttrain-error:0.27095+0.000167206\ttest-error:0.282385+0.000179807\n"
     ]
    }
   ],
   "source": [
    "dtrain = xgb.DMatrix(data=np.load(TRAINPICKLE+'.npy'), label = label)\n",
    "prior=label.mean()\n",
    "params={}\n",
    "params['bst:eta'] = 0.1\n",
    "params['bst:max_depth'] = 10\n",
    "params['min_child_weight'] = 4\n",
    "params['objective'] = 'binary:logistic'\n",
    "params['nthread'] = 4\n",
    "params['eval_metric'] = 'error'\n",
    "params['learning_rate'] = 0.1\n",
    "params['lambda'] = 0.1\n",
    "params['base_score'] = prior\n",
    "res = xgb.cv(params, dtrain, num_boost_round=1000, verbose_eval=True, nfold=4, seed=0, early_stopping_rounds=10, show_stdv=True)"
   ]
  },
  {
   "cell_type": "code",
   "execution_count": null,
   "metadata": {
    "collapsed": true
   },
   "outputs": [],
   "source": []
  },
  {
   "cell_type": "code",
   "execution_count": null,
   "metadata": {
    "collapsed": true
   },
   "outputs": [],
   "source": []
  },
  {
   "cell_type": "code",
   "execution_count": null,
   "metadata": {
    "collapsed": true
   },
   "outputs": [],
   "source": []
  }
 ],
 "metadata": {
  "anaconda-cloud": {},
  "kernelspec": {
   "display_name": "Python [conda root]",
   "language": "python",
   "name": "conda-root-py"
  },
  "language_info": {
   "codemirror_mode": {
    "name": "ipython",
    "version": 3
   },
   "file_extension": ".py",
   "mimetype": "text/x-python",
   "name": "python",
   "nbconvert_exporter": "python",
   "pygments_lexer": "ipython3",
   "version": "3.5.2"
  }
 },
 "nbformat": 4,
 "nbformat_minor": 0
}
