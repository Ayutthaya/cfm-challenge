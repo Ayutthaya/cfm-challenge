{
 "cells": [
  {
   "cell_type": "code",
   "execution_count": 50,
   "metadata": {
    "collapsed": false
   },
   "outputs": [
    {
     "name": "stdout",
     "output_type": "stream",
     "text": [
      "Populating the interactive namespace from numpy and matplotlib\n"
     ]
    }
   ],
   "source": [
    "import pandas\n",
    "import seaborn as sns\n",
    "%pylab inline"
   ]
  },
  {
   "cell_type": "code",
   "execution_count": 37,
   "metadata": {
    "collapsed": true
   },
   "outputs": [],
   "source": [
    "train = pandas.read_csv('../data/training_input.csv', nrows=1000)"
   ]
  },
  {
   "cell_type": "code",
   "execution_count": 5,
   "metadata": {
    "collapsed": false
   },
   "outputs": [
    {
     "data": {
      "text/plain": [
       "['ID',\n",
       " 'offset',\n",
       " 'bid_1',\n",
       " 'ask_1',\n",
       " 'bid_2',\n",
       " 'ask_2',\n",
       " 'bid_size_1',\n",
       " 'ask_size_1',\n",
       " 'bid_size_2',\n",
       " 'ask_size_2',\n",
       " 'bid_entry_1',\n",
       " 'ask_entry_1',\n",
       " 'bid_entry_2',\n",
       " 'ask_entry_2',\n",
       " 'bid_entropy_1',\n",
       " 'ask_entropy_1',\n",
       " 'bid_entropy_2',\n",
       " 'ask_entropy_2',\n",
       " 'bid_sqentry_1',\n",
       " 'ask_sqentry_1',\n",
       " 'bid_sqentry_2',\n",
       " 'ask_sqentry_2',\n",
       " 'nb_trade']"
      ]
     },
     "execution_count": 5,
     "metadata": {},
     "output_type": "execute_result"
    }
   ],
   "source": [
    "list(train)"
   ]
  },
  {
   "cell_type": "code",
   "execution_count": 48,
   "metadata": {
    "collapsed": false,
    "scrolled": true
   },
   "outputs": [
    {
     "data": {
      "text/html": [
       "<div>\n",
       "<table border=\"1\" class=\"dataframe\">\n",
       "  <thead>\n",
       "    <tr style=\"text-align: right;\">\n",
       "      <th></th>\n",
       "      <th>bid_1</th>\n",
       "      <th>bid_2</th>\n",
       "      <th>bid_size_1</th>\n",
       "      <th>bid_size_2</th>\n",
       "      <th>bid_entry_1</th>\n",
       "      <th>bid_entry_2</th>\n",
       "      <th>bid_entropy_1</th>\n",
       "      <th>bid_entropy_2</th>\n",
       "      <th>nb_trade</th>\n",
       "    </tr>\n",
       "  </thead>\n",
       "  <tbody>\n",
       "    <tr>\n",
       "      <th>128</th>\n",
       "      <td>1443.0</td>\n",
       "      <td>1442.0</td>\n",
       "      <td>495</td>\n",
       "      <td>498</td>\n",
       "      <td>65</td>\n",
       "      <td>73</td>\n",
       "      <td>2.299003</td>\n",
       "      <td>2.298754</td>\n",
       "      <td>0.0</td>\n",
       "    </tr>\n",
       "    <tr>\n",
       "      <th>129</th>\n",
       "      <td>1443.0</td>\n",
       "      <td>1442.0</td>\n",
       "      <td>524</td>\n",
       "      <td>498</td>\n",
       "      <td>68</td>\n",
       "      <td>73</td>\n",
       "      <td>2.343770</td>\n",
       "      <td>2.298754</td>\n",
       "      <td>4.0</td>\n",
       "    </tr>\n",
       "    <tr>\n",
       "      <th>130</th>\n",
       "      <td>1443.0</td>\n",
       "      <td>1442.0</td>\n",
       "      <td>524</td>\n",
       "      <td>498</td>\n",
       "      <td>68</td>\n",
       "      <td>73</td>\n",
       "      <td>2.343770</td>\n",
       "      <td>2.298754</td>\n",
       "      <td>4.0</td>\n",
       "    </tr>\n",
       "    <tr>\n",
       "      <th>131</th>\n",
       "      <td>1443.0</td>\n",
       "      <td>1442.0</td>\n",
       "      <td>524</td>\n",
       "      <td>498</td>\n",
       "      <td>68</td>\n",
       "      <td>73</td>\n",
       "      <td>2.343770</td>\n",
       "      <td>2.298754</td>\n",
       "      <td>4.0</td>\n",
       "    </tr>\n",
       "    <tr>\n",
       "      <th>132</th>\n",
       "      <td>1443.0</td>\n",
       "      <td>1442.0</td>\n",
       "      <td>524</td>\n",
       "      <td>498</td>\n",
       "      <td>68</td>\n",
       "      <td>73</td>\n",
       "      <td>2.343770</td>\n",
       "      <td>2.298754</td>\n",
       "      <td>4.0</td>\n",
       "    </tr>\n",
       "    <tr>\n",
       "      <th>133</th>\n",
       "      <td>1443.0</td>\n",
       "      <td>1442.0</td>\n",
       "      <td>524</td>\n",
       "      <td>498</td>\n",
       "      <td>68</td>\n",
       "      <td>73</td>\n",
       "      <td>2.343770</td>\n",
       "      <td>2.298754</td>\n",
       "      <td>4.0</td>\n",
       "    </tr>\n",
       "    <tr>\n",
       "      <th>134</th>\n",
       "      <td>1443.0</td>\n",
       "      <td>1442.0</td>\n",
       "      <td>524</td>\n",
       "      <td>498</td>\n",
       "      <td>68</td>\n",
       "      <td>73</td>\n",
       "      <td>2.343770</td>\n",
       "      <td>2.298754</td>\n",
       "      <td>4.0</td>\n",
       "    </tr>\n",
       "    <tr>\n",
       "      <th>135</th>\n",
       "      <td>1443.0</td>\n",
       "      <td>1442.0</td>\n",
       "      <td>524</td>\n",
       "      <td>498</td>\n",
       "      <td>68</td>\n",
       "      <td>73</td>\n",
       "      <td>2.343770</td>\n",
       "      <td>2.298754</td>\n",
       "      <td>4.0</td>\n",
       "    </tr>\n",
       "  </tbody>\n",
       "</table>\n",
       "</div>"
      ],
      "text/plain": [
       "      bid_1   bid_2  bid_size_1  bid_size_2  bid_entry_1  bid_entry_2  \\\n",
       "128  1443.0  1442.0         495         498           65           73   \n",
       "129  1443.0  1442.0         524         498           68           73   \n",
       "130  1443.0  1442.0         524         498           68           73   \n",
       "131  1443.0  1442.0         524         498           68           73   \n",
       "132  1443.0  1442.0         524         498           68           73   \n",
       "133  1443.0  1442.0         524         498           68           73   \n",
       "134  1443.0  1442.0         524         498           68           73   \n",
       "135  1443.0  1442.0         524         498           68           73   \n",
       "\n",
       "     bid_entropy_1  bid_entropy_2  nb_trade  \n",
       "128       2.299003       2.298754       0.0  \n",
       "129       2.343770       2.298754       4.0  \n",
       "130       2.343770       2.298754       4.0  \n",
       "131       2.343770       2.298754       4.0  \n",
       "132       2.343770       2.298754       4.0  \n",
       "133       2.343770       2.298754       4.0  \n",
       "134       2.343770       2.298754       4.0  \n",
       "135       2.343770       2.298754       4.0  "
      ]
     },
     "execution_count": 48,
     "metadata": {},
     "output_type": "execute_result"
    }
   ],
   "source": [
    "i=16\n",
    "train.loc[range(i*8, (i+1)*8)].filter(regex='bid_[12]|bid_size_[12]|bid_en.*|nb_trade')"
   ]
  },
  {
   "cell_type": "code",
   "execution_count": 49,
   "metadata": {
    "collapsed": false
   },
   "outputs": [
    {
     "data": {
      "text/html": [
       "<div>\n",
       "<table border=\"1\" class=\"dataframe\">\n",
       "  <thead>\n",
       "    <tr style=\"text-align: right;\">\n",
       "      <th></th>\n",
       "      <th>ask_1</th>\n",
       "      <th>ask_2</th>\n",
       "      <th>ask_size_1</th>\n",
       "      <th>ask_size_2</th>\n",
       "      <th>ask_entry_1</th>\n",
       "      <th>ask_entry_2</th>\n",
       "      <th>ask_entropy_1</th>\n",
       "      <th>ask_entropy_2</th>\n",
       "      <th>nb_trade</th>\n",
       "    </tr>\n",
       "  </thead>\n",
       "  <tbody>\n",
       "    <tr>\n",
       "      <th>128</th>\n",
       "      <td>1444.0</td>\n",
       "      <td>1445.0</td>\n",
       "      <td>15</td>\n",
       "      <td>500</td>\n",
       "      <td>4</td>\n",
       "      <td>70</td>\n",
       "      <td>1.039721</td>\n",
       "      <td>2.390704</td>\n",
       "      <td>0.0</td>\n",
       "    </tr>\n",
       "    <tr>\n",
       "      <th>129</th>\n",
       "      <td>1445.0</td>\n",
       "      <td>1446.0</td>\n",
       "      <td>453</td>\n",
       "      <td>577</td>\n",
       "      <td>65</td>\n",
       "      <td>89</td>\n",
       "      <td>2.339282</td>\n",
       "      <td>2.394692</td>\n",
       "      <td>4.0</td>\n",
       "    </tr>\n",
       "    <tr>\n",
       "      <th>130</th>\n",
       "      <td>1445.0</td>\n",
       "      <td>1446.0</td>\n",
       "      <td>453</td>\n",
       "      <td>577</td>\n",
       "      <td>65</td>\n",
       "      <td>89</td>\n",
       "      <td>2.339282</td>\n",
       "      <td>2.394692</td>\n",
       "      <td>4.0</td>\n",
       "    </tr>\n",
       "    <tr>\n",
       "      <th>131</th>\n",
       "      <td>1445.0</td>\n",
       "      <td>1446.0</td>\n",
       "      <td>453</td>\n",
       "      <td>577</td>\n",
       "      <td>65</td>\n",
       "      <td>89</td>\n",
       "      <td>2.339282</td>\n",
       "      <td>2.394692</td>\n",
       "      <td>4.0</td>\n",
       "    </tr>\n",
       "    <tr>\n",
       "      <th>132</th>\n",
       "      <td>1445.0</td>\n",
       "      <td>1446.0</td>\n",
       "      <td>453</td>\n",
       "      <td>577</td>\n",
       "      <td>65</td>\n",
       "      <td>89</td>\n",
       "      <td>2.339282</td>\n",
       "      <td>2.394692</td>\n",
       "      <td>4.0</td>\n",
       "    </tr>\n",
       "    <tr>\n",
       "      <th>133</th>\n",
       "      <td>1445.0</td>\n",
       "      <td>1446.0</td>\n",
       "      <td>453</td>\n",
       "      <td>577</td>\n",
       "      <td>65</td>\n",
       "      <td>89</td>\n",
       "      <td>2.339282</td>\n",
       "      <td>2.394692</td>\n",
       "      <td>4.0</td>\n",
       "    </tr>\n",
       "    <tr>\n",
       "      <th>134</th>\n",
       "      <td>1445.0</td>\n",
       "      <td>1446.0</td>\n",
       "      <td>453</td>\n",
       "      <td>577</td>\n",
       "      <td>65</td>\n",
       "      <td>89</td>\n",
       "      <td>2.339282</td>\n",
       "      <td>2.394692</td>\n",
       "      <td>4.0</td>\n",
       "    </tr>\n",
       "    <tr>\n",
       "      <th>135</th>\n",
       "      <td>1445.0</td>\n",
       "      <td>1446.0</td>\n",
       "      <td>453</td>\n",
       "      <td>577</td>\n",
       "      <td>65</td>\n",
       "      <td>89</td>\n",
       "      <td>2.339282</td>\n",
       "      <td>2.394692</td>\n",
       "      <td>4.0</td>\n",
       "    </tr>\n",
       "  </tbody>\n",
       "</table>\n",
       "</div>"
      ],
      "text/plain": [
       "      ask_1   ask_2  ask_size_1  ask_size_2  ask_entry_1  ask_entry_2  \\\n",
       "128  1444.0  1445.0          15         500            4           70   \n",
       "129  1445.0  1446.0         453         577           65           89   \n",
       "130  1445.0  1446.0         453         577           65           89   \n",
       "131  1445.0  1446.0         453         577           65           89   \n",
       "132  1445.0  1446.0         453         577           65           89   \n",
       "133  1445.0  1446.0         453         577           65           89   \n",
       "134  1445.0  1446.0         453         577           65           89   \n",
       "135  1445.0  1446.0         453         577           65           89   \n",
       "\n",
       "     ask_entropy_1  ask_entropy_2  nb_trade  \n",
       "128       1.039721       2.390704       0.0  \n",
       "129       2.339282       2.394692       4.0  \n",
       "130       2.339282       2.394692       4.0  \n",
       "131       2.339282       2.394692       4.0  \n",
       "132       2.339282       2.394692       4.0  \n",
       "133       2.339282       2.394692       4.0  \n",
       "134       2.339282       2.394692       4.0  \n",
       "135       2.339282       2.394692       4.0  "
      ]
     },
     "execution_count": 49,
     "metadata": {},
     "output_type": "execute_result"
    }
   ],
   "source": [
    "i=16\n",
    "train.loc[range(i*8, (i+1)*8)].filter(regex='ask_[12]|ask_size_[12]|ask_en.*|nb_trade')"
   ]
  },
  {
   "cell_type": "code",
   "execution_count": 57,
   "metadata": {
    "collapsed": false
   },
   "outputs": [],
   "source": [
    "train_bid_size = pandas.read_csv('../data/training_input.csv', usecols=['bid_entry_1'])"
   ]
  },
  {
   "cell_type": "code",
   "execution_count": 58,
   "metadata": {
    "collapsed": false
   },
   "outputs": [
    {
     "name": "stderr",
     "output_type": "stream",
     "text": [
      "/home/nath/anaconda3/lib/python3.5/site-packages/statsmodels/nonparametric/kdetools.py:20: VisibleDeprecationWarning: using a non-integer number instead of an integer will result in an error in the future\n",
      "  y = X[:m/2+1] + np.r_[0,X[m/2+1:],0]*1j\n"
     ]
    },
    {
     "data": {
      "text/plain": [
       "<matplotlib.axes._subplots.AxesSubplot at 0xa988f7ec>"
      ]
     },
     "execution_count": 58,
     "metadata": {},
     "output_type": "execute_result"
    },
    {
     "data": {
      "image/png": "[encoded data removed]",
      "text/plain": [
       "<matplotlib.figure.Figure at 0xa987dc0c>"
      ]
     },
     "metadata": {},
     "output_type": "display_data"
    }
   ],
   "source": [
    "sns.kdeplot(train_bid_size['bid_entry_1'])"
   ]
  },
  {
   "cell_type": "code",
   "execution_count": null,
   "metadata": {
    "collapsed": true
   },
   "outputs": [],
   "source": []
  }
 ],
 "metadata": {
  "kernelspec": {
   "display_name": "Python [Root]",
   "language": "python",
   "name": "Python [Root]"
  },
  "language_info": {
   "codemirror_mode": {
    "name": "ipython",
    "version": 3
   },
   "file_extension": ".py",
   "mimetype": "text/x-python",
   "name": "python",
   "nbconvert_exporter": "python",
   "pygments_lexer": "ipython3",
   "version": "3.5.2"
  }
 },
 "nbformat": 4,
 "nbformat_minor": 0
}
